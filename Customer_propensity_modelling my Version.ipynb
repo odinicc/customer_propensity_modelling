{
 "cells": [
  {
   "cell_type": "code",
   "execution_count": 1,
   "id": "feb01e1f-61df-461f-a293-34ad46fae770",
   "metadata": {
    "pycharm": {
     "name": "#%%\n"
    }
   },
   "outputs": [],
   "source": [
    "import pandas as pd\n",
    "import numpy as np\n",
    "import os\n",
    "import matplotlib.pylab as plt\n",
    "from sklearn.model_selection  import train_test_split\n",
    "from sklearn.tree import DecisionTreeClassifier\n",
    "from sklearn.metrics import classification_report\n",
    "import sklearn.metrics"
   ]
  },
  {
   "cell_type": "code",
   "execution_count": 2,
   "id": "f8bb2603-e29d-4f11-9106-9cb402db62cd",
   "metadata": {
    "pycharm": {
     "name": "#%%\n"
    }
   },
   "outputs": [],
   "source": [
    "train = pd.read_csv('data/training_sample.csv')"
   ]
  },
  {
   "cell_type": "code",
   "execution_count": 3,
   "id": "75efe643-416b-4cb5-a9a7-f259d120c216",
   "metadata": {
    "pycharm": {
     "name": "#%%\n"
    }
   },
   "outputs": [
    {
     "data": {
      "text/plain": "                                UserID  basket_icon_click  basket_add_list  \\\n0  a720-6b732349-a720-4862-bd21-644732                  0                0   \n1  a0c0-6b73247c-a0c0-4bd9-8baa-797356                  0                0   \n2  86a8-6b735c67-86a8-407b-ba24-333055                  0                0   \n3  6a3d-6b736346-6a3d-4085-934b-396834                  0                0   \n4  b74a-6b737717-b74a-45c3-8c6a-421140                  0                1   \n\n   basket_add_detail  sort_by  image_picker  account_page_click  \\\n0                  0        0             0                   0   \n1                  0        0             0                   0   \n2                  0        0             0                   0   \n3                  0        0             0                   0   \n4                  0        1             0                   0   \n\n   promo_banner_click  detail_wishlist_add  list_size_dropdown  ...  \\\n0                   0                    0                   0  ...   \n1                   0                    0                   0  ...   \n2                   0                    0                   0  ...   \n3                   0                    0                   0  ...   \n4                   0                    0                   1  ...   \n\n   saw_sizecharts  saw_delivery  saw_account_upgrade  saw_homepage  \\\n0               0             0                    0             0   \n1               0             0                    0             0   \n2               0             0                    0             0   \n3               0             0                    0             0   \n4               0             0                    0             1   \n\n   device_mobile  device_computer  device_tablet  returning_user  loc_uk  \\\n0              1                0              0               0       1   \n1              1                0              0               0       1   \n2              1                0              0               1       1   \n3              1                0              0               1       1   \n4              0                0              1               0       1   \n\n   ordered  \n0        0  \n1        0  \n2        0  \n3        0  \n4        1  \n\n[5 rows x 25 columns]",
      "text/html": "<div>\n<style scoped>\n    .dataframe tbody tr th:only-of-type {\n        vertical-align: middle;\n    }\n\n    .dataframe tbody tr th {\n        vertical-align: top;\n    }\n\n    .dataframe thead th {\n        text-align: right;\n    }\n</style>\n<table border=\"1\" class=\"dataframe\">\n  <thead>\n    <tr style=\"text-align: right;\">\n      <th></th>\n      <th>UserID</th>\n      <th>basket_icon_click</th>\n      <th>basket_add_list</th>\n      <th>basket_add_detail</th>\n      <th>sort_by</th>\n      <th>image_picker</th>\n      <th>account_page_click</th>\n      <th>promo_banner_click</th>\n      <th>detail_wishlist_add</th>\n      <th>list_size_dropdown</th>\n      <th>...</th>\n      <th>saw_sizecharts</th>\n      <th>saw_delivery</th>\n      <th>saw_account_upgrade</th>\n      <th>saw_homepage</th>\n      <th>device_mobile</th>\n      <th>device_computer</th>\n      <th>device_tablet</th>\n      <th>returning_user</th>\n      <th>loc_uk</th>\n      <th>ordered</th>\n    </tr>\n  </thead>\n  <tbody>\n    <tr>\n      <th>0</th>\n      <td>a720-6b732349-a720-4862-bd21-644732</td>\n      <td>0</td>\n      <td>0</td>\n      <td>0</td>\n      <td>0</td>\n      <td>0</td>\n      <td>0</td>\n      <td>0</td>\n      <td>0</td>\n      <td>0</td>\n      <td>...</td>\n      <td>0</td>\n      <td>0</td>\n      <td>0</td>\n      <td>0</td>\n      <td>1</td>\n      <td>0</td>\n      <td>0</td>\n      <td>0</td>\n      <td>1</td>\n      <td>0</td>\n    </tr>\n    <tr>\n      <th>1</th>\n      <td>a0c0-6b73247c-a0c0-4bd9-8baa-797356</td>\n      <td>0</td>\n      <td>0</td>\n      <td>0</td>\n      <td>0</td>\n      <td>0</td>\n      <td>0</td>\n      <td>0</td>\n      <td>0</td>\n      <td>0</td>\n      <td>...</td>\n      <td>0</td>\n      <td>0</td>\n      <td>0</td>\n      <td>0</td>\n      <td>1</td>\n      <td>0</td>\n      <td>0</td>\n      <td>0</td>\n      <td>1</td>\n      <td>0</td>\n    </tr>\n    <tr>\n      <th>2</th>\n      <td>86a8-6b735c67-86a8-407b-ba24-333055</td>\n      <td>0</td>\n      <td>0</td>\n      <td>0</td>\n      <td>0</td>\n      <td>0</td>\n      <td>0</td>\n      <td>0</td>\n      <td>0</td>\n      <td>0</td>\n      <td>...</td>\n      <td>0</td>\n      <td>0</td>\n      <td>0</td>\n      <td>0</td>\n      <td>1</td>\n      <td>0</td>\n      <td>0</td>\n      <td>1</td>\n      <td>1</td>\n      <td>0</td>\n    </tr>\n    <tr>\n      <th>3</th>\n      <td>6a3d-6b736346-6a3d-4085-934b-396834</td>\n      <td>0</td>\n      <td>0</td>\n      <td>0</td>\n      <td>0</td>\n      <td>0</td>\n      <td>0</td>\n      <td>0</td>\n      <td>0</td>\n      <td>0</td>\n      <td>...</td>\n      <td>0</td>\n      <td>0</td>\n      <td>0</td>\n      <td>0</td>\n      <td>1</td>\n      <td>0</td>\n      <td>0</td>\n      <td>1</td>\n      <td>1</td>\n      <td>0</td>\n    </tr>\n    <tr>\n      <th>4</th>\n      <td>b74a-6b737717-b74a-45c3-8c6a-421140</td>\n      <td>0</td>\n      <td>1</td>\n      <td>0</td>\n      <td>1</td>\n      <td>0</td>\n      <td>0</td>\n      <td>0</td>\n      <td>0</td>\n      <td>1</td>\n      <td>...</td>\n      <td>0</td>\n      <td>0</td>\n      <td>0</td>\n      <td>1</td>\n      <td>0</td>\n      <td>0</td>\n      <td>1</td>\n      <td>0</td>\n      <td>1</td>\n      <td>1</td>\n    </tr>\n  </tbody>\n</table>\n<p>5 rows × 25 columns</p>\n</div>"
     },
     "execution_count": 3,
     "metadata": {},
     "output_type": "execute_result"
    }
   ],
   "source": [
    "train.head(5)"
   ]
  },
  {
   "cell_type": "code",
   "execution_count": 4,
   "outputs": [
    {
     "data": {
      "text/plain": "                                     UserID  basket_icon_click  \\\n0       a720-6b732349-a720-4862-bd21-644732                  0   \n1       a0c0-6b73247c-a0c0-4bd9-8baa-797356                  0   \n2       86a8-6b735c67-86a8-407b-ba24-333055                  0   \n3       6a3d-6b736346-6a3d-4085-934b-396834                  0   \n4       b74a-6b737717-b74a-45c3-8c6a-421140                  0   \n...                                     ...                ...   \n455396  5624-06d73a79-5624-450a-acdd-367154                  0   \n455397  42a3-06d74c74-42a3-4dc9-b874-727916                  0   \n455398  104a-06d7a875-104a-428d-b2b8-358312                  0   \n455399   d9b1-06d7a928-d9b1-40d9-a2d6-32624                  0   \n455400  7aav-06d7bd20-7aav-411b-bc9c-325055                  1   \n\n        basket_add_list  basket_add_detail  sort_by  image_picker  \\\n0                     0                  0        0             0   \n1                     0                  0        0             0   \n2                     0                  0        0             0   \n3                     0                  0        0             0   \n4                     1                  0        1             0   \n...                 ...                ...      ...           ...   \n455396                0                  0        0             0   \n455397                0                  0        0             0   \n455398                0                  0        0             0   \n455399                0                  0        0             0   \n455400                1                  1        0             0   \n\n        account_page_click  promo_banner_click  detail_wishlist_add  \\\n0                        0                   0                    0   \n1                        0                   0                    0   \n2                        0                   0                    0   \n3                        0                   0                    0   \n4                        0                   0                    0   \n...                    ...                 ...                  ...   \n455396                   0                   0                    0   \n455397                   0                   0                    0   \n455398                   0                   0                    0   \n455399                   0                   0                    0   \n455400                   0                   0                    0   \n\n        list_size_dropdown  ...  saw_sizecharts  saw_delivery  \\\n0                        0  ...               0             0   \n1                        0  ...               0             0   \n2                        0  ...               0             0   \n3                        0  ...               0             0   \n4                        1  ...               0             0   \n...                    ...  ...             ...           ...   \n455396                   0  ...               0             0   \n455397                   0  ...               0             0   \n455398                   0  ...               0             0   \n455399                   0  ...               0             0   \n455400                   1  ...               0             0   \n\n        saw_account_upgrade  saw_homepage  device_mobile  device_computer  \\\n0                         0             0              1                0   \n1                         0             0              1                0   \n2                         0             0              1                0   \n3                         0             0              1                0   \n4                         0             1              0                0   \n...                     ...           ...            ...              ...   \n455396                    0             1              1                0   \n455397                    0             0              1                0   \n455398                    0             1              1                0   \n455399                    0             0              1                0   \n455400                    0             1              1                0   \n\n        device_tablet  returning_user  loc_uk  ordered  \n0                   0               0       1        0  \n1                   0               0       1        0  \n2                   0               1       1        0  \n3                   0               1       1        0  \n4                   1               0       1        1  \n...               ...             ...     ...      ...  \n455396              0               0       1        0  \n455397              0               0       1        0  \n455398              0               0       1        0  \n455399              0               0       1        0  \n455400              0               0       1        0  \n\n[455401 rows x 25 columns]",
      "text/html": "<div>\n<style scoped>\n    .dataframe tbody tr th:only-of-type {\n        vertical-align: middle;\n    }\n\n    .dataframe tbody tr th {\n        vertical-align: top;\n    }\n\n    .dataframe thead th {\n        text-align: right;\n    }\n</style>\n<table border=\"1\" class=\"dataframe\">\n  <thead>\n    <tr style=\"text-align: right;\">\n      <th></th>\n      <th>UserID</th>\n      <th>basket_icon_click</th>\n      <th>basket_add_list</th>\n      <th>basket_add_detail</th>\n      <th>sort_by</th>\n      <th>image_picker</th>\n      <th>account_page_click</th>\n      <th>promo_banner_click</th>\n      <th>detail_wishlist_add</th>\n      <th>list_size_dropdown</th>\n      <th>...</th>\n      <th>saw_sizecharts</th>\n      <th>saw_delivery</th>\n      <th>saw_account_upgrade</th>\n      <th>saw_homepage</th>\n      <th>device_mobile</th>\n      <th>device_computer</th>\n      <th>device_tablet</th>\n      <th>returning_user</th>\n      <th>loc_uk</th>\n      <th>ordered</th>\n    </tr>\n  </thead>\n  <tbody>\n    <tr>\n      <th>0</th>\n      <td>a720-6b732349-a720-4862-bd21-644732</td>\n      <td>0</td>\n      <td>0</td>\n      <td>0</td>\n      <td>0</td>\n      <td>0</td>\n      <td>0</td>\n      <td>0</td>\n      <td>0</td>\n      <td>0</td>\n      <td>...</td>\n      <td>0</td>\n      <td>0</td>\n      <td>0</td>\n      <td>0</td>\n      <td>1</td>\n      <td>0</td>\n      <td>0</td>\n      <td>0</td>\n      <td>1</td>\n      <td>0</td>\n    </tr>\n    <tr>\n      <th>1</th>\n      <td>a0c0-6b73247c-a0c0-4bd9-8baa-797356</td>\n      <td>0</td>\n      <td>0</td>\n      <td>0</td>\n      <td>0</td>\n      <td>0</td>\n      <td>0</td>\n      <td>0</td>\n      <td>0</td>\n      <td>0</td>\n      <td>...</td>\n      <td>0</td>\n      <td>0</td>\n      <td>0</td>\n      <td>0</td>\n      <td>1</td>\n      <td>0</td>\n      <td>0</td>\n      <td>0</td>\n      <td>1</td>\n      <td>0</td>\n    </tr>\n    <tr>\n      <th>2</th>\n      <td>86a8-6b735c67-86a8-407b-ba24-333055</td>\n      <td>0</td>\n      <td>0</td>\n      <td>0</td>\n      <td>0</td>\n      <td>0</td>\n      <td>0</td>\n      <td>0</td>\n      <td>0</td>\n      <td>0</td>\n      <td>...</td>\n      <td>0</td>\n      <td>0</td>\n      <td>0</td>\n      <td>0</td>\n      <td>1</td>\n      <td>0</td>\n      <td>0</td>\n      <td>1</td>\n      <td>1</td>\n      <td>0</td>\n    </tr>\n    <tr>\n      <th>3</th>\n      <td>6a3d-6b736346-6a3d-4085-934b-396834</td>\n      <td>0</td>\n      <td>0</td>\n      <td>0</td>\n      <td>0</td>\n      <td>0</td>\n      <td>0</td>\n      <td>0</td>\n      <td>0</td>\n      <td>0</td>\n      <td>...</td>\n      <td>0</td>\n      <td>0</td>\n      <td>0</td>\n      <td>0</td>\n      <td>1</td>\n      <td>0</td>\n      <td>0</td>\n      <td>1</td>\n      <td>1</td>\n      <td>0</td>\n    </tr>\n    <tr>\n      <th>4</th>\n      <td>b74a-6b737717-b74a-45c3-8c6a-421140</td>\n      <td>0</td>\n      <td>1</td>\n      <td>0</td>\n      <td>1</td>\n      <td>0</td>\n      <td>0</td>\n      <td>0</td>\n      <td>0</td>\n      <td>1</td>\n      <td>...</td>\n      <td>0</td>\n      <td>0</td>\n      <td>0</td>\n      <td>1</td>\n      <td>0</td>\n      <td>0</td>\n      <td>1</td>\n      <td>0</td>\n      <td>1</td>\n      <td>1</td>\n    </tr>\n    <tr>\n      <th>...</th>\n      <td>...</td>\n      <td>...</td>\n      <td>...</td>\n      <td>...</td>\n      <td>...</td>\n      <td>...</td>\n      <td>...</td>\n      <td>...</td>\n      <td>...</td>\n      <td>...</td>\n      <td>...</td>\n      <td>...</td>\n      <td>...</td>\n      <td>...</td>\n      <td>...</td>\n      <td>...</td>\n      <td>...</td>\n      <td>...</td>\n      <td>...</td>\n      <td>...</td>\n      <td>...</td>\n    </tr>\n    <tr>\n      <th>455396</th>\n      <td>5624-06d73a79-5624-450a-acdd-367154</td>\n      <td>0</td>\n      <td>0</td>\n      <td>0</td>\n      <td>0</td>\n      <td>0</td>\n      <td>0</td>\n      <td>0</td>\n      <td>0</td>\n      <td>0</td>\n      <td>...</td>\n      <td>0</td>\n      <td>0</td>\n      <td>0</td>\n      <td>1</td>\n      <td>1</td>\n      <td>0</td>\n      <td>0</td>\n      <td>0</td>\n      <td>1</td>\n      <td>0</td>\n    </tr>\n    <tr>\n      <th>455397</th>\n      <td>42a3-06d74c74-42a3-4dc9-b874-727916</td>\n      <td>0</td>\n      <td>0</td>\n      <td>0</td>\n      <td>0</td>\n      <td>0</td>\n      <td>0</td>\n      <td>0</td>\n      <td>0</td>\n      <td>0</td>\n      <td>...</td>\n      <td>0</td>\n      <td>0</td>\n      <td>0</td>\n      <td>0</td>\n      <td>1</td>\n      <td>0</td>\n      <td>0</td>\n      <td>0</td>\n      <td>1</td>\n      <td>0</td>\n    </tr>\n    <tr>\n      <th>455398</th>\n      <td>104a-06d7a875-104a-428d-b2b8-358312</td>\n      <td>0</td>\n      <td>0</td>\n      <td>0</td>\n      <td>0</td>\n      <td>0</td>\n      <td>0</td>\n      <td>0</td>\n      <td>0</td>\n      <td>0</td>\n      <td>...</td>\n      <td>0</td>\n      <td>0</td>\n      <td>0</td>\n      <td>1</td>\n      <td>1</td>\n      <td>0</td>\n      <td>0</td>\n      <td>0</td>\n      <td>1</td>\n      <td>0</td>\n    </tr>\n    <tr>\n      <th>455399</th>\n      <td>d9b1-06d7a928-d9b1-40d9-a2d6-32624</td>\n      <td>0</td>\n      <td>0</td>\n      <td>0</td>\n      <td>0</td>\n      <td>0</td>\n      <td>0</td>\n      <td>0</td>\n      <td>0</td>\n      <td>0</td>\n      <td>...</td>\n      <td>0</td>\n      <td>0</td>\n      <td>0</td>\n      <td>0</td>\n      <td>1</td>\n      <td>0</td>\n      <td>0</td>\n      <td>0</td>\n      <td>1</td>\n      <td>0</td>\n    </tr>\n    <tr>\n      <th>455400</th>\n      <td>7aav-06d7bd20-7aav-411b-bc9c-325055</td>\n      <td>1</td>\n      <td>1</td>\n      <td>1</td>\n      <td>0</td>\n      <td>0</td>\n      <td>0</td>\n      <td>0</td>\n      <td>0</td>\n      <td>1</td>\n      <td>...</td>\n      <td>0</td>\n      <td>0</td>\n      <td>0</td>\n      <td>1</td>\n      <td>1</td>\n      <td>0</td>\n      <td>0</td>\n      <td>0</td>\n      <td>1</td>\n      <td>0</td>\n    </tr>\n  </tbody>\n</table>\n<p>455401 rows × 25 columns</p>\n</div>"
     },
     "execution_count": 4,
     "metadata": {},
     "output_type": "execute_result"
    }
   ],
   "source": [
    "train"
   ],
   "metadata": {
    "collapsed": false,
    "pycharm": {
     "name": "#%%\n"
    }
   }
  },
  {
   "cell_type": "code",
   "execution_count": 5,
   "outputs": [
    {
     "data": {
      "text/plain": "UserID                     object\nbasket_icon_click           int64\nbasket_add_list             int64\nbasket_add_detail           int64\nsort_by                     int64\nimage_picker                int64\naccount_page_click          int64\npromo_banner_click          int64\ndetail_wishlist_add         int64\nlist_size_dropdown          int64\nclosed_minibasket_click     int64\nchecked_delivery_detail     int64\nchecked_returns_detail      int64\nsign_in                     int64\nsaw_checkout                int64\nsaw_sizecharts              int64\nsaw_delivery                int64\nsaw_account_upgrade         int64\nsaw_homepage                int64\ndevice_mobile               int64\ndevice_computer             int64\ndevice_tablet               int64\nreturning_user              int64\nloc_uk                      int64\nordered                     int64\ndtype: object"
     },
     "execution_count": 5,
     "metadata": {},
     "output_type": "execute_result"
    }
   ],
   "source": [
    "train.dtypes"
   ],
   "metadata": {
    "collapsed": false,
    "pycharm": {
     "name": "#%%\n"
    }
   }
  },
  {
   "cell_type": "code",
   "execution_count": 6,
   "id": "c21e68c2-238e-410e-8961-8275ddb88e1a",
   "metadata": {
    "pycharm": {
     "name": "#%%\n"
    }
   },
   "outputs": [
    {
     "data": {
      "text/plain": "(455401, 25)"
     },
     "execution_count": 6,
     "metadata": {},
     "output_type": "execute_result"
    }
   ],
   "source": [
    "train.shape"
   ]
  },
  {
   "cell_type": "code",
   "execution_count": 7,
   "id": "9e3d95e1-49d6-4f6b-9ab8-8524b4b3b1a4",
   "metadata": {
    "pycharm": {
     "name": "#%%\n"
    }
   },
   "outputs": [
    {
     "name": "stdout",
     "output_type": "stream",
     "text": [
      "       basket_icon_click  basket_add_list  basket_add_detail        sort_by  \\\n",
      "count      455401.000000    455401.000000      455401.000000  455401.000000   \n",
      "mean            0.099150         0.074521           0.112916       0.036849   \n",
      "std             0.298864         0.262617           0.316490       0.188391   \n",
      "min             0.000000         0.000000           0.000000       0.000000   \n",
      "25%             0.000000         0.000000           0.000000       0.000000   \n",
      "50%             0.000000         0.000000           0.000000       0.000000   \n",
      "75%             0.000000         0.000000           0.000000       0.000000   \n",
      "max             1.000000         1.000000           1.000000       1.000000   \n",
      "\n",
      "        image_picker  account_page_click  promo_banner_click  \\\n",
      "count  455401.000000       455401.000000       455401.000000   \n",
      "mean        0.026735            0.003570            0.016208   \n",
      "std         0.161307            0.059647            0.126274   \n",
      "min         0.000000            0.000000            0.000000   \n",
      "25%         0.000000            0.000000            0.000000   \n",
      "50%         0.000000            0.000000            0.000000   \n",
      "75%         0.000000            0.000000            0.000000   \n",
      "max         1.000000            1.000000            1.000000   \n",
      "\n",
      "       detail_wishlist_add  list_size_dropdown  closed_minibasket_click  ...  \\\n",
      "count        455401.000000       455401.000000            455401.000000  ...   \n",
      "mean              0.003511            0.230362                 0.017277  ...   \n",
      "std               0.059151            0.421065                 0.130302  ...   \n",
      "min               0.000000            0.000000                 0.000000  ...   \n",
      "25%               0.000000            0.000000                 0.000000  ...   \n",
      "50%               0.000000            0.000000                 0.000000  ...   \n",
      "75%               0.000000            0.000000                 0.000000  ...   \n",
      "max               1.000000            1.000000                 1.000000  ...   \n",
      "\n",
      "       saw_sizecharts   saw_delivery  saw_account_upgrade   saw_homepage  \\\n",
      "count   455401.000000  455401.000000        455401.000000  455401.000000   \n",
      "mean         0.000389       0.005542             0.001096       0.290024   \n",
      "std          0.019711       0.074241             0.033084       0.453773   \n",
      "min          0.000000       0.000000             0.000000       0.000000   \n",
      "25%          0.000000       0.000000             0.000000       0.000000   \n",
      "50%          0.000000       0.000000             0.000000       0.000000   \n",
      "75%          0.000000       0.000000             0.000000       1.000000   \n",
      "max          1.000000       1.000000             1.000000       1.000000   \n",
      "\n",
      "       device_mobile  device_computer  device_tablet  returning_user  \\\n",
      "count  455401.000000    455401.000000  455401.000000   455401.000000   \n",
      "mean        0.680706         0.194220       0.128364        0.534915   \n",
      "std         0.466204         0.395599       0.334495        0.498780   \n",
      "min         0.000000         0.000000       0.000000        0.000000   \n",
      "25%         0.000000         0.000000       0.000000        0.000000   \n",
      "50%         1.000000         0.000000       0.000000        1.000000   \n",
      "75%         1.000000         0.000000       0.000000        1.000000   \n",
      "max         1.000000         1.000000       1.000000        1.000000   \n",
      "\n",
      "              loc_uk        ordered  \n",
      "count  455401.000000  455401.000000  \n",
      "mean        0.933224       0.041926  \n",
      "std         0.249634       0.200420  \n",
      "min         0.000000       0.000000  \n",
      "25%         1.000000       0.000000  \n",
      "50%         1.000000       0.000000  \n",
      "75%         1.000000       0.000000  \n",
      "max         1.000000       1.000000  \n",
      "\n",
      "[8 rows x 24 columns]\n"
     ]
    }
   ],
   "source": [
    "print(train.describe())"
   ]
  },
  {
   "cell_type": "code",
   "execution_count": 8,
   "id": "ce56b7b1-8cc5-409d-b08b-39b49d29786f",
   "metadata": {
    "pycharm": {
     "name": "#%%\n"
    }
   },
   "outputs": [
    {
     "name": "stdout",
     "output_type": "stream",
     "text": [
      "<class 'pandas.core.frame.DataFrame'>\n",
      "RangeIndex: 455401 entries, 0 to 455400\n",
      "Data columns (total 25 columns):\n",
      " #   Column                   Non-Null Count   Dtype \n",
      "---  ------                   --------------   ----- \n",
      " 0   UserID                   455401 non-null  object\n",
      " 1   basket_icon_click        455401 non-null  int64 \n",
      " 2   basket_add_list          455401 non-null  int64 \n",
      " 3   basket_add_detail        455401 non-null  int64 \n",
      " 4   sort_by                  455401 non-null  int64 \n",
      " 5   image_picker             455401 non-null  int64 \n",
      " 6   account_page_click       455401 non-null  int64 \n",
      " 7   promo_banner_click       455401 non-null  int64 \n",
      " 8   detail_wishlist_add      455401 non-null  int64 \n",
      " 9   list_size_dropdown       455401 non-null  int64 \n",
      " 10  closed_minibasket_click  455401 non-null  int64 \n",
      " 11  checked_delivery_detail  455401 non-null  int64 \n",
      " 12  checked_returns_detail   455401 non-null  int64 \n",
      " 13  sign_in                  455401 non-null  int64 \n",
      " 14  saw_checkout             455401 non-null  int64 \n",
      " 15  saw_sizecharts           455401 non-null  int64 \n",
      " 16  saw_delivery             455401 non-null  int64 \n",
      " 17  saw_account_upgrade      455401 non-null  int64 \n",
      " 18  saw_homepage             455401 non-null  int64 \n",
      " 19  device_mobile            455401 non-null  int64 \n",
      " 20  device_computer          455401 non-null  int64 \n",
      " 21  device_tablet            455401 non-null  int64 \n",
      " 22  returning_user           455401 non-null  int64 \n",
      " 23  loc_uk                   455401 non-null  int64 \n",
      " 24  ordered                  455401 non-null  int64 \n",
      "dtypes: int64(24), object(1)\n",
      "memory usage: 86.9+ MB\n",
      "None\n"
     ]
    }
   ],
   "source": [
    "print(train.info())"
   ]
  },
  {
   "cell_type": "code",
   "execution_count": 9,
   "outputs": [
    {
     "data": {
      "text/plain": "array([1, 0], dtype=int64)"
     },
     "execution_count": 9,
     "metadata": {},
     "output_type": "execute_result"
    }
   ],
   "source": [
    "train.loc_uk.unique()"
   ],
   "metadata": {
    "collapsed": false,
    "pycharm": {
     "name": "#%%\n"
    }
   }
  },
  {
   "cell_type": "code",
   "execution_count": 10,
   "id": "fa37d134-384b-4abd-bd06-2362dfba9b96",
   "metadata": {
    "pycharm": {
     "name": "#%%\n"
    }
   },
   "outputs": [
    {
     "data": {
      "text/plain": "<Figure size 1152x1008 with 2 Axes>",
      "image/png": "[encoded data removed]"
     },
     "metadata": {
      "needs_background": "light"
     },
     "output_type": "display_data"
    }
   ],
   "source": [
    "# To check the correlation between columns:\n",
    "import seaborn as sns\n",
    "corr = train.corr()\n",
    "plt.figure(figsize=(16, 14))\n",
    "sns.heatmap(corr, vmax=0.5, center=0,square=True, linewidths=2)\n",
    "plt.savefig(\"heatmap.png\")\n",
    "plt.show()"
   ]
  },
  {
   "cell_type": "code",
   "execution_count": 11,
   "id": "3d8b379d-83ef-4c42-8ffc-e43a120b9600",
   "metadata": {
    "pycharm": {
     "name": "#%%\n"
    }
   },
   "outputs": [
    {
     "data": {
      "text/plain": "basket_icon_click          0.428334\nbasket_add_list            0.287666\nbasket_add_detail          0.414420\nsort_by                    0.054636\nimage_picker               0.071492\naccount_page_click         0.057279\npromo_banner_click         0.056533\ndetail_wishlist_add        0.023516\nlist_size_dropdown         0.154867\nclosed_minibasket_click    0.140011\nchecked_delivery_detail    0.798720\nchecked_returns_detail     0.059484\nsign_in                    0.665556\nsaw_checkout               0.708986\nsaw_sizecharts             0.007548\nsaw_delivery               0.031461\nsaw_account_upgrade        0.025857\nsaw_homepage               0.157778\ndevice_mobile             -0.042907\ndevice_computer            0.049208\ndevice_tablet              0.016939\nreturning_user             0.060295\nloc_uk                     0.031643\nordered                    1.000000\nName: ordered, dtype: float64"
     },
     "execution_count": 11,
     "metadata": {},
     "output_type": "execute_result"
    }
   ],
   "source": [
    "train.corr()['ordered']"
   ]
  },
  {
   "cell_type": "code",
   "execution_count": 12,
   "id": "db5767ce-6422-4695-8d37-dea205d2e431",
   "metadata": {
    "pycharm": {
     "name": "#%%\n"
    }
   },
   "outputs": [],
   "source": [
    "# Drop columns with low correlation and 'ordered' as it is our target.\n",
    "predictors = train.drop(['ordered','UserID','device_mobile'], axis=1)\n",
    "targets = train.ordered"
   ]
  },
  {
   "cell_type": "code",
   "execution_count": 13,
   "id": "1c03bfdb-61ea-4a09-91db-e08d986ee99d",
   "metadata": {
    "pycharm": {
     "name": "#%%\n"
    }
   },
   "outputs": [
    {
     "data": {
      "text/plain": "(455401, 22)"
     },
     "execution_count": 13,
     "metadata": {},
     "output_type": "execute_result"
    }
   ],
   "source": [
    "predictors.shape"
   ]
  },
  {
   "cell_type": "code",
   "execution_count": 14,
   "id": "97d5b4d3-852d-4696-b6b1-42ef746d6a07",
   "metadata": {
    "pycharm": {
     "name": "#%%\n"
    }
   },
   "outputs": [
    {
     "name": "stdout",
     "output_type": "stream",
     "text": [
      "Index(['basket_icon_click', 'basket_add_list', 'basket_add_detail', 'sort_by',\n",
      "       'image_picker', 'account_page_click', 'promo_banner_click',\n",
      "       'detail_wishlist_add', 'list_size_dropdown', 'closed_minibasket_click',\n",
      "       'checked_delivery_detail', 'checked_returns_detail', 'sign_in',\n",
      "       'saw_checkout', 'saw_sizecharts', 'saw_delivery', 'saw_account_upgrade',\n",
      "       'saw_homepage', 'device_computer', 'device_tablet', 'returning_user',\n",
      "       'loc_uk'],\n",
      "      dtype='object')\n"
     ]
    }
   ],
   "source": [
    "print(predictors.columns)"
   ]
  },
  {
   "cell_type": "code",
   "execution_count": 15,
   "id": "a40c241f-2075-4221-9327-4dc845b0d1be",
   "metadata": {
    "pycharm": {
     "name": "#%%\n"
    }
   },
   "outputs": [],
   "source": [
    "# Splitting dataset into train and test data\n",
    "X_train, X_test, y_train, y_test = train_test_split(predictors, targets, test_size=0.2)"
   ]
  },
  {
   "cell_type": "code",
   "execution_count": 16,
   "id": "7d5f1fd8-0e1a-477c-9d45-b434f0cff0b8",
   "metadata": {
    "pycharm": {
     "name": "#%%\n"
    }
   },
   "outputs": [],
   "source": [
    "from sklearn.linear_model import LogisticRegression"
   ]
  },
  {
   "cell_type": "code",
   "execution_count": 39,
   "id": "80316b8c-6231-4f13-99bf-7f3c84ccc073",
   "metadata": {
    "pycharm": {
     "name": "#%%\n"
    }
   },
   "outputs": [
    {
     "data": {
      "text/plain": "LogisticRegression()",
      "text/html": "<style>#sk-container-id-3 {color: black;background-color: white;}#sk-container-id-3 pre{padding: 0;}#sk-container-id-3 div.sk-toggleable {background-color: white;}#sk-container-id-3 label.sk-toggleable__label {cursor: pointer;display: block;width: 100%;margin-bottom: 0;padding: 0.3em;box-sizing: border-box;text-align: center;}#sk-container-id-3 label.sk-toggleable__label-arrow:before {content: \"▸\";float: left;margin-right: 0.25em;color: #696969;}#sk-container-id-3 label.sk-toggleable__label-arrow:hover:before {color: black;}#sk-container-id-3 div.sk-estimator:hover label.sk-toggleable__label-arrow:before {color: black;}#sk-container-id-3 div.sk-toggleable__content {max-height: 0;max-width: 0;overflow: hidden;text-align: left;background-color: #f0f8ff;}#sk-container-id-3 div.sk-toggleable__content pre {margin: 0.2em;color: black;border-radius: 0.25em;background-color: #f0f8ff;}#sk-container-id-3 input.sk-toggleable__control:checked~div.sk-toggleable__content {max-height: 200px;max-width: 100%;overflow: auto;}#sk-container-id-3 input.sk-toggleable__control:checked~label.sk-toggleable__label-arrow:before {content: \"▾\";}#sk-container-id-3 div.sk-estimator input.sk-toggleable__control:checked~label.sk-toggleable__label {background-color: #d4ebff;}#sk-container-id-3 div.sk-label input.sk-toggleable__control:checked~label.sk-toggleable__label {background-color: #d4ebff;}#sk-container-id-3 input.sk-hidden--visually {border: 0;clip: rect(1px 1px 1px 1px);clip: rect(1px, 1px, 1px, 1px);height: 1px;margin: -1px;overflow: hidden;padding: 0;position: absolute;width: 1px;}#sk-container-id-3 div.sk-estimator {font-family: monospace;background-color: #f0f8ff;border: 1px dotted black;border-radius: 0.25em;box-sizing: border-box;margin-bottom: 0.5em;}#sk-container-id-3 div.sk-estimator:hover {background-color: #d4ebff;}#sk-container-id-3 div.sk-parallel-item::after {content: \"\";width: 100%;border-bottom: 1px solid gray;flex-grow: 1;}#sk-container-id-3 div.sk-label:hover label.sk-toggleable__label {background-color: #d4ebff;}#sk-container-id-3 div.sk-serial::before {content: \"\";position: absolute;border-left: 1px solid gray;box-sizing: border-box;top: 0;bottom: 0;left: 50%;z-index: 0;}#sk-container-id-3 div.sk-serial {display: flex;flex-direction: column;align-items: center;background-color: white;padding-right: 0.2em;padding-left: 0.2em;position: relative;}#sk-container-id-3 div.sk-item {position: relative;z-index: 1;}#sk-container-id-3 div.sk-parallel {display: flex;align-items: stretch;justify-content: center;background-color: white;position: relative;}#sk-container-id-3 div.sk-item::before, #sk-container-id-3 div.sk-parallel-item::before {content: \"\";position: absolute;border-left: 1px solid gray;box-sizing: border-box;top: 0;bottom: 0;left: 50%;z-index: -1;}#sk-container-id-3 div.sk-parallel-item {display: flex;flex-direction: column;z-index: 1;position: relative;background-color: white;}#sk-container-id-3 div.sk-parallel-item:first-child::after {align-self: flex-end;width: 50%;}#sk-container-id-3 div.sk-parallel-item:last-child::after {align-self: flex-start;width: 50%;}#sk-container-id-3 div.sk-parallel-item:only-child::after {width: 0;}#sk-container-id-3 div.sk-dashed-wrapped {border: 1px dashed gray;margin: 0 0.4em 0.5em 0.4em;box-sizing: border-box;padding-bottom: 0.4em;background-color: white;}#sk-container-id-3 div.sk-label label {font-family: monospace;font-weight: bold;display: inline-block;line-height: 1.2em;}#sk-container-id-3 div.sk-label-container {text-align: center;}#sk-container-id-3 div.sk-container {/* jupyter's `normalize.less` sets `[hidden] { display: none; }` but bootstrap.min.css set `[hidden] { display: none !important; }` so we also need the `!important` here to be able to override the default hidden behavior on the sphinx rendered scikit-learn.org. See: https://github.com/scikit-learn/scikit-learn/issues/21755 */display: inline-block !important;position: relative;}#sk-container-id-3 div.sk-text-repr-fallback {display: none;}</style><div id=\"sk-container-id-3\" class=\"sk-top-container\"><div class=\"sk-text-repr-fallback\"><pre>LogisticRegression()</pre><b>In a Jupyter environment, please rerun this cell to show the HTML representation or trust the notebook. <br />On GitHub, the HTML representation is unable to render, please try loading this page with nbviewer.org.</b></div><div class=\"sk-container\" hidden><div class=\"sk-item\"><div class=\"sk-estimator sk-toggleable\"><input class=\"sk-toggleable__control sk-hidden--visually\" id=\"sk-estimator-id-3\" type=\"checkbox\" checked><label for=\"sk-estimator-id-3\" class=\"sk-toggleable__label sk-toggleable__label-arrow\">LogisticRegression</label><div class=\"sk-toggleable__content\"><pre>LogisticRegression()</pre></div></div></div></div></div>"
     },
     "execution_count": 39,
     "metadata": {},
     "output_type": "execute_result"
    }
   ],
   "source": [
    "lr = LogisticRegression()\n",
    "lr.fit(X_train,y_train)"
   ]
  },
  {
   "cell_type": "code",
   "execution_count": 43,
   "id": "80359c8c-fb99-4d4f-81fd-80ba1ac609df",
   "metadata": {
    "pycharm": {
     "name": "#%%\n"
    }
   },
   "outputs": [
    {
     "data": {
      "text/plain": "0.9932147562582345"
     },
     "execution_count": 43,
     "metadata": {},
     "output_type": "execute_result"
    }
   ],
   "source": [
    "lr.score(X_train,y_train)"
   ]
  },
  {
   "cell_type": "code",
   "execution_count": 44,
   "id": "7f94679b-9b2b-409a-ab36-a22ba9031b46",
   "metadata": {
    "pycharm": {
     "name": "#%%\n"
    }
   },
   "outputs": [
    {
     "data": {
      "text/plain": "0.992940349798531"
     },
     "execution_count": 44,
     "metadata": {},
     "output_type": "execute_result"
    }
   ],
   "source": [
    "lr.score(X_test,y_test)"
   ]
  },
  {
   "cell_type": "code",
   "execution_count": 45,
   "id": "d136a390-3cb3-42ca-b78e-6b37d0dee5df",
   "metadata": {
    "pycharm": {
     "name": "#%%\n"
    }
   },
   "outputs": [
    {
     "data": {
      "text/plain": "array([0, 0, 0, ..., 0, 0, 0], dtype=int64)"
     },
     "execution_count": 45,
     "metadata": {},
     "output_type": "execute_result"
    }
   ],
   "source": [
    "predict = lr.predict(X_test)\n",
    "predict"
   ]
  },
  {
   "cell_type": "code",
   "execution_count": 46,
   "id": "c210d6c8-fe88-4cd8-babc-ab27dcbee390",
   "metadata": {
    "pycharm": {
     "name": "#%%\n"
    }
   },
   "outputs": [
    {
     "data": {
      "text/plain": "array([[9.99996387e-01, 3.61254507e-06],\n       [9.99994838e-01, 5.16218325e-06],\n       [9.99996387e-01, 3.61254507e-06],\n       ...,\n       [9.99994246e-01, 5.75422225e-06],\n       [9.99996719e-01, 3.28084713e-06],\n       [9.99994838e-01, 5.16218325e-06]])"
     },
     "execution_count": 46,
     "metadata": {},
     "output_type": "execute_result"
    }
   ],
   "source": [
    "prob = lr.predict_proba(X_test)\n",
    "prob"
   ]
  },
  {
   "cell_type": "code",
   "execution_count": 61,
   "outputs": [
    {
     "ename": "IndexError",
     "evalue": "Inconsistent shape between the condition and the input (got (91081, 1) and (91081,))",
     "output_type": "error",
     "traceback": [
      "\u001B[1;31m---------------------------------------------------------------------------\u001B[0m",
      "\u001B[1;31mIndexError\u001B[0m                                Traceback (most recent call last)",
      "Input \u001B[1;32mIn [61]\u001B[0m, in \u001B[0;36m<cell line: 1>\u001B[1;34m()\u001B[0m\n\u001B[1;32m----> 1\u001B[0m \u001B[43msns\u001B[49m\u001B[38;5;241;43m.\u001B[39;49m\u001B[43mheatmap\u001B[49m\u001B[43m(\u001B[49m\u001B[43mdf_prob\u001B[49m\u001B[43m[\u001B[49m\u001B[38;5;241;43m1\u001B[39;49m\u001B[43m]\u001B[49m\u001B[43m)\u001B[49m\n",
      "File \u001B[1;32m~\\AppData\\Local\\Programs\\Python\\Python310\\lib\\site-packages\\seaborn\\_decorators.py:46\u001B[0m, in \u001B[0;36m_deprecate_positional_args.<locals>.inner_f\u001B[1;34m(*args, **kwargs)\u001B[0m\n\u001B[0;32m     36\u001B[0m     warnings\u001B[38;5;241m.\u001B[39mwarn(\n\u001B[0;32m     37\u001B[0m         \u001B[38;5;124m\"\u001B[39m\u001B[38;5;124mPass the following variable\u001B[39m\u001B[38;5;132;01m{}\u001B[39;00m\u001B[38;5;124m as \u001B[39m\u001B[38;5;132;01m{}\u001B[39;00m\u001B[38;5;124mkeyword arg\u001B[39m\u001B[38;5;132;01m{}\u001B[39;00m\u001B[38;5;124m: \u001B[39m\u001B[38;5;132;01m{}\u001B[39;00m\u001B[38;5;124m. \u001B[39m\u001B[38;5;124m\"\u001B[39m\n\u001B[0;32m     38\u001B[0m         \u001B[38;5;124m\"\u001B[39m\u001B[38;5;124mFrom version 0.12, the only valid positional argument \u001B[39m\u001B[38;5;124m\"\u001B[39m\n\u001B[1;32m   (...)\u001B[0m\n\u001B[0;32m     43\u001B[0m         \u001B[38;5;167;01mFutureWarning\u001B[39;00m\n\u001B[0;32m     44\u001B[0m     )\n\u001B[0;32m     45\u001B[0m kwargs\u001B[38;5;241m.\u001B[39mupdate({k: arg \u001B[38;5;28;01mfor\u001B[39;00m k, arg \u001B[38;5;129;01min\u001B[39;00m \u001B[38;5;28mzip\u001B[39m(sig\u001B[38;5;241m.\u001B[39mparameters, args)})\n\u001B[1;32m---> 46\u001B[0m \u001B[38;5;28;01mreturn\u001B[39;00m f(\u001B[38;5;241m*\u001B[39m\u001B[38;5;241m*\u001B[39mkwargs)\n",
      "File \u001B[1;32m~\\AppData\\Local\\Programs\\Python\\Python310\\lib\\site-packages\\seaborn\\matrix.py:540\u001B[0m, in \u001B[0;36mheatmap\u001B[1;34m(data, vmin, vmax, cmap, center, robust, annot, fmt, annot_kws, linewidths, linecolor, cbar, cbar_kws, cbar_ax, square, xticklabels, yticklabels, mask, ax, **kwargs)\u001B[0m\n\u001B[0;32m    362\u001B[0m \u001B[38;5;124;03m\"\"\"Plot rectangular data as a color-encoded matrix.\u001B[39;00m\n\u001B[0;32m    363\u001B[0m \n\u001B[0;32m    364\u001B[0m \u001B[38;5;124;03mThis is an Axes-level function and will draw the heatmap into the\u001B[39;00m\n\u001B[1;32m   (...)\u001B[0m\n\u001B[0;32m    537\u001B[0m \u001B[38;5;124;03m    ...     ax = sns.heatmap(corr, mask=mask, vmax=.3, square=True)\u001B[39;00m\n\u001B[0;32m    538\u001B[0m \u001B[38;5;124;03m\"\"\"\u001B[39;00m\n\u001B[0;32m    539\u001B[0m \u001B[38;5;66;03m# Initialize the plotter object\u001B[39;00m\n\u001B[1;32m--> 540\u001B[0m plotter \u001B[38;5;241m=\u001B[39m \u001B[43m_HeatMapper\u001B[49m\u001B[43m(\u001B[49m\u001B[43mdata\u001B[49m\u001B[43m,\u001B[49m\u001B[43m \u001B[49m\u001B[43mvmin\u001B[49m\u001B[43m,\u001B[49m\u001B[43m \u001B[49m\u001B[43mvmax\u001B[49m\u001B[43m,\u001B[49m\u001B[43m \u001B[49m\u001B[43mcmap\u001B[49m\u001B[43m,\u001B[49m\u001B[43m \u001B[49m\u001B[43mcenter\u001B[49m\u001B[43m,\u001B[49m\u001B[43m \u001B[49m\u001B[43mrobust\u001B[49m\u001B[43m,\u001B[49m\u001B[43m \u001B[49m\u001B[43mannot\u001B[49m\u001B[43m,\u001B[49m\u001B[43m \u001B[49m\u001B[43mfmt\u001B[49m\u001B[43m,\u001B[49m\n\u001B[0;32m    541\u001B[0m \u001B[43m                      \u001B[49m\u001B[43mannot_kws\u001B[49m\u001B[43m,\u001B[49m\u001B[43m \u001B[49m\u001B[43mcbar\u001B[49m\u001B[43m,\u001B[49m\u001B[43m \u001B[49m\u001B[43mcbar_kws\u001B[49m\u001B[43m,\u001B[49m\u001B[43m \u001B[49m\u001B[43mxticklabels\u001B[49m\u001B[43m,\u001B[49m\n\u001B[0;32m    542\u001B[0m \u001B[43m                      \u001B[49m\u001B[43myticklabels\u001B[49m\u001B[43m,\u001B[49m\u001B[43m \u001B[49m\u001B[43mmask\u001B[49m\u001B[43m)\u001B[49m\n\u001B[0;32m    544\u001B[0m \u001B[38;5;66;03m# Add the pcolormesh kwargs here\u001B[39;00m\n\u001B[0;32m    545\u001B[0m kwargs[\u001B[38;5;124m\"\u001B[39m\u001B[38;5;124mlinewidths\u001B[39m\u001B[38;5;124m\"\u001B[39m] \u001B[38;5;241m=\u001B[39m linewidths\n",
      "File \u001B[1;32m~\\AppData\\Local\\Programs\\Python\\Python310\\lib\\site-packages\\seaborn\\matrix.py:111\u001B[0m, in \u001B[0;36m_HeatMapper.__init__\u001B[1;34m(self, data, vmin, vmax, cmap, center, robust, annot, fmt, annot_kws, cbar, cbar_kws, xticklabels, yticklabels, mask)\u001B[0m\n\u001B[0;32m    108\u001B[0m \u001B[38;5;66;03m# Validate the mask and convet to DataFrame\u001B[39;00m\n\u001B[0;32m    109\u001B[0m mask \u001B[38;5;241m=\u001B[39m _matrix_mask(data, mask)\n\u001B[1;32m--> 111\u001B[0m plot_data \u001B[38;5;241m=\u001B[39m \u001B[43mnp\u001B[49m\u001B[38;5;241;43m.\u001B[39;49m\u001B[43mma\u001B[49m\u001B[38;5;241;43m.\u001B[39;49m\u001B[43mmasked_where\u001B[49m\u001B[43m(\u001B[49m\u001B[43mnp\u001B[49m\u001B[38;5;241;43m.\u001B[39;49m\u001B[43masarray\u001B[49m\u001B[43m(\u001B[49m\u001B[43mmask\u001B[49m\u001B[43m)\u001B[49m\u001B[43m,\u001B[49m\u001B[43m \u001B[49m\u001B[43mplot_data\u001B[49m\u001B[43m)\u001B[49m\n\u001B[0;32m    113\u001B[0m \u001B[38;5;66;03m# Get good names for the rows and columns\u001B[39;00m\n\u001B[0;32m    114\u001B[0m xtickevery \u001B[38;5;241m=\u001B[39m \u001B[38;5;241m1\u001B[39m\n",
      "File \u001B[1;32m~\\AppData\\Local\\Programs\\Python\\Python310\\lib\\site-packages\\numpy\\ma\\core.py:1926\u001B[0m, in \u001B[0;36mmasked_where\u001B[1;34m(condition, a, copy)\u001B[0m\n\u001B[0;32m   1924\u001B[0m (cshape, ashape) \u001B[38;5;241m=\u001B[39m (cond\u001B[38;5;241m.\u001B[39mshape, a\u001B[38;5;241m.\u001B[39mshape)\n\u001B[0;32m   1925\u001B[0m \u001B[38;5;28;01mif\u001B[39;00m cshape \u001B[38;5;129;01mand\u001B[39;00m cshape \u001B[38;5;241m!=\u001B[39m ashape:\n\u001B[1;32m-> 1926\u001B[0m     \u001B[38;5;28;01mraise\u001B[39;00m \u001B[38;5;167;01mIndexError\u001B[39;00m(\u001B[38;5;124m\"\u001B[39m\u001B[38;5;124mInconsistent shape between the condition and the input\u001B[39m\u001B[38;5;124m\"\u001B[39m\n\u001B[0;32m   1927\u001B[0m                      \u001B[38;5;124m\"\u001B[39m\u001B[38;5;124m (got \u001B[39m\u001B[38;5;132;01m%s\u001B[39;00m\u001B[38;5;124m and \u001B[39m\u001B[38;5;132;01m%s\u001B[39;00m\u001B[38;5;124m)\u001B[39m\u001B[38;5;124m\"\u001B[39m \u001B[38;5;241m%\u001B[39m (cshape, ashape))\n\u001B[0;32m   1928\u001B[0m \u001B[38;5;28;01mif\u001B[39;00m \u001B[38;5;28mhasattr\u001B[39m(a, \u001B[38;5;124m'\u001B[39m\u001B[38;5;124m_mask\u001B[39m\u001B[38;5;124m'\u001B[39m):\n\u001B[0;32m   1929\u001B[0m     cond \u001B[38;5;241m=\u001B[39m mask_or(cond, a\u001B[38;5;241m.\u001B[39m_mask)\n",
      "\u001B[1;31mIndexError\u001B[0m: Inconsistent shape between the condition and the input (got (91081, 1) and (91081,))"
     ]
    }
   ],
   "source": [],
   "metadata": {
    "collapsed": false,
    "pycharm": {
     "name": "#%%\n"
    }
   }
  },
  {
   "cell_type": "code",
   "execution_count": 67,
   "outputs": [],
   "source": [
    "df_prob = pd.DataFrame(prob , columns=['prob_buy', 'prob_dont_buy'])"
   ],
   "metadata": {
    "collapsed": false,
    "pycharm": {
     "name": "#%%\n"
    }
   }
  },
  {
   "cell_type": "code",
   "execution_count": 68,
   "outputs": [
    {
     "data": {
      "text/plain": "<AxesSubplot:>"
     },
     "execution_count": 68,
     "metadata": {},
     "output_type": "execute_result"
    },
    {
     "data": {
      "text/plain": "<Figure size 432x288 with 2 Axes>",
      "image/png": "[encoded data removed]"
     },
     "metadata": {
      "needs_background": "light"
     },
     "output_type": "display_data"
    }
   ],
   "source": [
    "sns.heatmap(df_prob)"
   ],
   "metadata": {
    "collapsed": false,
    "pycharm": {
     "name": "#%%\n"
    }
   }
  },
  {
   "cell_type": "code",
   "execution_count": 70,
   "outputs": [
    {
     "data": {
      "text/plain": "       prob_buy  prob_dont_buy\n0      0.999996       0.000004\n1      0.999995       0.000005\n2      0.999996       0.000004\n3      0.981136       0.018864\n4      0.999994       0.000006\n...         ...            ...\n91076  0.999999       0.000001\n91077  0.999996       0.000004\n91078  0.999994       0.000006\n91079  0.999997       0.000003\n91080  0.999995       0.000005\n\n[91081 rows x 2 columns]",
      "text/html": "<div>\n<style scoped>\n    .dataframe tbody tr th:only-of-type {\n        vertical-align: middle;\n    }\n\n    .dataframe tbody tr th {\n        vertical-align: top;\n    }\n\n    .dataframe thead th {\n        text-align: right;\n    }\n</style>\n<table border=\"1\" class=\"dataframe\">\n  <thead>\n    <tr style=\"text-align: right;\">\n      <th></th>\n      <th>prob_buy</th>\n      <th>prob_dont_buy</th>\n    </tr>\n  </thead>\n  <tbody>\n    <tr>\n      <th>0</th>\n      <td>0.999996</td>\n      <td>0.000004</td>\n    </tr>\n    <tr>\n      <th>1</th>\n      <td>0.999995</td>\n      <td>0.000005</td>\n    </tr>\n    <tr>\n      <th>2</th>\n      <td>0.999996</td>\n      <td>0.000004</td>\n    </tr>\n    <tr>\n      <th>3</th>\n      <td>0.981136</td>\n      <td>0.018864</td>\n    </tr>\n    <tr>\n      <th>4</th>\n      <td>0.999994</td>\n      <td>0.000006</td>\n    </tr>\n    <tr>\n      <th>...</th>\n      <td>...</td>\n      <td>...</td>\n    </tr>\n    <tr>\n      <th>91076</th>\n      <td>0.999999</td>\n      <td>0.000001</td>\n    </tr>\n    <tr>\n      <th>91077</th>\n      <td>0.999996</td>\n      <td>0.000004</td>\n    </tr>\n    <tr>\n      <th>91078</th>\n      <td>0.999994</td>\n      <td>0.000006</td>\n    </tr>\n    <tr>\n      <th>91079</th>\n      <td>0.999997</td>\n      <td>0.000003</td>\n    </tr>\n    <tr>\n      <th>91080</th>\n      <td>0.999995</td>\n      <td>0.000005</td>\n    </tr>\n  </tbody>\n</table>\n<p>91081 rows × 2 columns</p>\n</div>"
     },
     "execution_count": 70,
     "metadata": {},
     "output_type": "execute_result"
    }
   ],
   "source": [
    "df_prob"
   ],
   "metadata": {
    "collapsed": false,
    "pycharm": {
     "name": "#%%\n"
    }
   }
  },
  {
   "cell_type": "code",
   "execution_count": null,
   "outputs": [],
   "source": [
    "sns.displot(df_prob, x=\"prob_buy\")"
   ],
   "metadata": {
    "collapsed": false,
    "pycharm": {
     "name": "#%%\n",
     "is_executing": true
    }
   }
  },
  {
   "cell_type": "code",
   "execution_count": 47,
   "id": "75eaef9e-5945-4e7b-b103-b70069b4d323",
   "metadata": {
    "pycharm": {
     "name": "#%%\n"
    }
   },
   "outputs": [],
   "source": [
    "from sklearn.model_selection import cross_val_score"
   ]
  },
  {
   "cell_type": "code",
   "execution_count": 48,
   "id": "2a63efff-2b89-4353-a76c-e5548fc7e426",
   "metadata": {
    "pycharm": {
     "name": "#%%\n"
    }
   },
   "outputs": [
    {
     "data": {
      "text/plain": "array([0.99352218, 0.99338494, 0.99322025, 0.99301438, 0.99287714])"
     },
     "execution_count": 48,
     "metadata": {},
     "output_type": "execute_result"
    }
   ],
   "source": [
    "cross_val_score(lr, X_train, y_train)"
   ]
  },
  {
   "cell_type": "code",
   "execution_count": null,
   "outputs": [],
   "source": [],
   "metadata": {
    "collapsed": false,
    "pycharm": {
     "name": "#%%\n"
    }
   }
  },
  {
   "cell_type": "code",
   "execution_count": 24,
   "id": "61e7f161-982a-4e20-ae3f-6a2f9ca61574",
   "metadata": {
    "pycharm": {
     "name": "#%%\n"
    }
   },
   "outputs": [],
   "source": [
    "# Now let us predict on the previous days visitors.\n",
    "# First start by loading in our sample data of the previous days visitors who did not order.\n",
    "yesterdays_prospect = pd.read_csv('data/testing_sample.csv')"
   ]
  },
  {
   "cell_type": "code",
   "execution_count": 25,
   "id": "8af5a756-41ec-46ae-a14c-34f4f37a8af9",
   "metadata": {
    "pycharm": {
     "name": "#%%\n"
    }
   },
   "outputs": [
    {
     "data": {
      "text/plain": "                                UserID  basket_icon_click  basket_add_list  \\\n0  9d24-25k4-47889d24-25k4-494b-398124                  0                0   \n1  7732-1k58-47887732-1k58-4475-679678                  0                0   \n2  94k2-632j-471394k2-632j-4b4j-228160                  0                0   \n3  jdd8-419d-4714jdd8-419d-4198-674376                  0                0   \n4  7473-7595-47147473-7595-4757-227547                  0                0   \n\n   basket_add_detail  sort_by  image_picker  account_page_click  \\\n0                  0        0             0                   0   \n1                  0        0             0                   0   \n2                  0        0             0                   0   \n3                  1        0             0                   0   \n4                  0        0             0                   0   \n\n   promo_banner_click  detail_wishlist_add  list_size_dropdown  ...  \\\n0                   0                    0                   0  ...   \n1                   0                    0                   0  ...   \n2                   0                    0                   0  ...   \n3                   0                    0                   0  ...   \n4                   0                    0                   0  ...   \n\n   saw_sizecharts  saw_delivery  saw_account_upgrade  saw_homepage  \\\n0               0             0                    0             0   \n1               0             0                    0             0   \n2               0             0                    0             0   \n3               0             0                    0             0   \n4               0             0                    0             0   \n\n   device_mobile  device_computer  device_tablet  returning_user  loc_uk  \\\n0              1                0              0               0       1   \n1              1                0              0               0       1   \n2              1                0              0               0       1   \n3              1                0              0               0       1   \n4              1                0              0               0       1   \n\n   ordered  \n0        0  \n1        0  \n2        0  \n3        0  \n4        0  \n\n[5 rows x 25 columns]",
      "text/html": "<div>\n<style scoped>\n    .dataframe tbody tr th:only-of-type {\n        vertical-align: middle;\n    }\n\n    .dataframe tbody tr th {\n        vertical-align: top;\n    }\n\n    .dataframe thead th {\n        text-align: right;\n    }\n</style>\n<table border=\"1\" class=\"dataframe\">\n  <thead>\n    <tr style=\"text-align: right;\">\n      <th></th>\n      <th>UserID</th>\n      <th>basket_icon_click</th>\n      <th>basket_add_list</th>\n      <th>basket_add_detail</th>\n      <th>sort_by</th>\n      <th>image_picker</th>\n      <th>account_page_click</th>\n      <th>promo_banner_click</th>\n      <th>detail_wishlist_add</th>\n      <th>list_size_dropdown</th>\n      <th>...</th>\n      <th>saw_sizecharts</th>\n      <th>saw_delivery</th>\n      <th>saw_account_upgrade</th>\n      <th>saw_homepage</th>\n      <th>device_mobile</th>\n      <th>device_computer</th>\n      <th>device_tablet</th>\n      <th>returning_user</th>\n      <th>loc_uk</th>\n      <th>ordered</th>\n    </tr>\n  </thead>\n  <tbody>\n    <tr>\n      <th>0</th>\n      <td>9d24-25k4-47889d24-25k4-494b-398124</td>\n      <td>0</td>\n      <td>0</td>\n      <td>0</td>\n      <td>0</td>\n      <td>0</td>\n      <td>0</td>\n      <td>0</td>\n      <td>0</td>\n      <td>0</td>\n      <td>...</td>\n      <td>0</td>\n      <td>0</td>\n      <td>0</td>\n      <td>0</td>\n      <td>1</td>\n      <td>0</td>\n      <td>0</td>\n      <td>0</td>\n      <td>1</td>\n      <td>0</td>\n    </tr>\n    <tr>\n      <th>1</th>\n      <td>7732-1k58-47887732-1k58-4475-679678</td>\n      <td>0</td>\n      <td>0</td>\n      <td>0</td>\n      <td>0</td>\n      <td>0</td>\n      <td>0</td>\n      <td>0</td>\n      <td>0</td>\n      <td>0</td>\n      <td>...</td>\n      <td>0</td>\n      <td>0</td>\n      <td>0</td>\n      <td>0</td>\n      <td>1</td>\n      <td>0</td>\n      <td>0</td>\n      <td>0</td>\n      <td>1</td>\n      <td>0</td>\n    </tr>\n    <tr>\n      <th>2</th>\n      <td>94k2-632j-471394k2-632j-4b4j-228160</td>\n      <td>0</td>\n      <td>0</td>\n      <td>0</td>\n      <td>0</td>\n      <td>0</td>\n      <td>0</td>\n      <td>0</td>\n      <td>0</td>\n      <td>0</td>\n      <td>...</td>\n      <td>0</td>\n      <td>0</td>\n      <td>0</td>\n      <td>0</td>\n      <td>1</td>\n      <td>0</td>\n      <td>0</td>\n      <td>0</td>\n      <td>1</td>\n      <td>0</td>\n    </tr>\n    <tr>\n      <th>3</th>\n      <td>jdd8-419d-4714jdd8-419d-4198-674376</td>\n      <td>0</td>\n      <td>0</td>\n      <td>1</td>\n      <td>0</td>\n      <td>0</td>\n      <td>0</td>\n      <td>0</td>\n      <td>0</td>\n      <td>0</td>\n      <td>...</td>\n      <td>0</td>\n      <td>0</td>\n      <td>0</td>\n      <td>0</td>\n      <td>1</td>\n      <td>0</td>\n      <td>0</td>\n      <td>0</td>\n      <td>1</td>\n      <td>0</td>\n    </tr>\n    <tr>\n      <th>4</th>\n      <td>7473-7595-47147473-7595-4757-227547</td>\n      <td>0</td>\n      <td>0</td>\n      <td>0</td>\n      <td>0</td>\n      <td>0</td>\n      <td>0</td>\n      <td>0</td>\n      <td>0</td>\n      <td>0</td>\n      <td>...</td>\n      <td>0</td>\n      <td>0</td>\n      <td>0</td>\n      <td>0</td>\n      <td>1</td>\n      <td>0</td>\n      <td>0</td>\n      <td>0</td>\n      <td>1</td>\n      <td>0</td>\n    </tr>\n  </tbody>\n</table>\n<p>5 rows × 25 columns</p>\n</div>"
     },
     "execution_count": 25,
     "metadata": {},
     "output_type": "execute_result"
    }
   ],
   "source": [
    "yesterdays_prospect.head()"
   ]
  },
  {
   "cell_type": "code",
   "execution_count": 26,
   "id": "ef75f4f5-9f7b-4508-8a17-4f7501764fa3",
   "metadata": {
    "pycharm": {
     "name": "#%%\n"
    }
   },
   "outputs": [
    {
     "name": "stdout",
     "output_type": "stream",
     "text": [
      "<class 'pandas.core.frame.DataFrame'>\n",
      "RangeIndex: 151655 entries, 0 to 151654\n",
      "Data columns (total 25 columns):\n",
      " #   Column                   Non-Null Count   Dtype \n",
      "---  ------                   --------------   ----- \n",
      " 0   UserID                   151655 non-null  object\n",
      " 1   basket_icon_click        151655 non-null  int64 \n",
      " 2   basket_add_list          151655 non-null  int64 \n",
      " 3   basket_add_detail        151655 non-null  int64 \n",
      " 4   sort_by                  151655 non-null  int64 \n",
      " 5   image_picker             151655 non-null  int64 \n",
      " 6   account_page_click       151655 non-null  int64 \n",
      " 7   promo_banner_click       151655 non-null  int64 \n",
      " 8   detail_wishlist_add      151655 non-null  int64 \n",
      " 9   list_size_dropdown       151655 non-null  int64 \n",
      " 10  closed_minibasket_click  151655 non-null  int64 \n",
      " 11  checked_delivery_detail  151655 non-null  int64 \n",
      " 12  checked_returns_detail   151655 non-null  int64 \n",
      " 13  sign_in                  151655 non-null  int64 \n",
      " 14  saw_checkout             151655 non-null  int64 \n",
      " 15  saw_sizecharts           151655 non-null  int64 \n",
      " 16  saw_delivery             151655 non-null  int64 \n",
      " 17  saw_account_upgrade      151655 non-null  int64 \n",
      " 18  saw_homepage             151655 non-null  int64 \n",
      " 19  device_mobile            151655 non-null  int64 \n",
      " 20  device_computer          151655 non-null  int64 \n",
      " 21  device_tablet            151655 non-null  int64 \n",
      " 22  returning_user           151655 non-null  int64 \n",
      " 23  loc_uk                   151655 non-null  int64 \n",
      " 24  ordered                  151655 non-null  int64 \n",
      "dtypes: int64(24), object(1)\n",
      "memory usage: 28.9+ MB\n",
      "None\n"
     ]
    }
   ],
   "source": [
    "print(yesterdays_prospect.info())"
   ]
  },
  {
   "cell_type": "code",
   "execution_count": 27,
   "id": "24092422-a2e6-47ca-9b48-d7735ab14cbb",
   "metadata": {
    "scrolled": true,
    "tags": [],
    "pycharm": {
     "name": "#%%\n"
    }
   },
   "outputs": [
    {
     "name": "stdout",
     "output_type": "stream",
     "text": [
      "                                 UserID  basket_icon_click  basket_add_list  \\\n",
      "0   9d24-25k4-47889d24-25k4-494b-398124                  0                0   \n",
      "1   7732-1k58-47887732-1k58-4475-679678                  0                0   \n",
      "2   94k2-632j-471394k2-632j-4b4j-228160                  0                0   \n",
      "3   jdd8-419d-4714jdd8-419d-4198-674376                  0                0   \n",
      "4   7473-7595-47147473-7595-4757-227547                  0                0   \n",
      "5   7j3d-j382-47157j3d-j382-4d3b-955343                  1                0   \n",
      "6   bb4d-8019-4715bb4d-8019-4d42-763898                  0                0   \n",
      "7   d09k-j446-4716d09k-j446-4469-572703                  0                0   \n",
      "8    1397-7143-47171397-7143-4969-95351                  1                1   \n",
      "9   3j36-dj4d-47183j36-dj4d-4478-404497                  0                0   \n",
      "10   82b1-659j-471882b1-659j-45j1-32901                  0                0   \n",
      "11  dj8d-141k-4718dj8d-141k-42db-743965                  0                0   \n",
      "12  dk79-707j-4718dk79-707j-4d6k-487319                  0                0   \n",
      "13  42d6-051d-471j42d6-051d-4634-595933                  0                0   \n",
      "14  dk73-4794-471jdk73-4794-4450-695194                  0                0   \n",
      "15  0457-970d-471b0457-970d-42jb-259828                  0                0   \n",
      "16  d942-7bb0-471bd942-7bb0-48b7-176992                  0                0   \n",
      "17  1864-k405-471k1864-k405-4186-172547                  0                0   \n",
      "18  3j6b-4j14-471k3j6b-4j14-4k44-208836                  0                0   \n",
      "19  5470-1b83-471k5470-1b83-4476-737173                  0                0   \n",
      "20  7548-k5db-471k7548-k5db-445j-856744                  0                0   \n",
      "21    74j8-k175-471d74j8-k175-4410-6346                  0                0   \n",
      "22  457j-28b0-471d457j-28b0-47dk-811618                  0                0   \n",
      "23  743b-08d2-4717743b-08d2-4634-230774                  1                1   \n",
      "24  2k14-4j8k-47142k14-4j8k-4540-748537                  0                0   \n",
      "25  388k-6047-4714388k-6047-446b-345915                  0                0   \n",
      "26  3496-7b76-47203496-7b76-4821-657220                  0                0   \n",
      "27  3j61-9d88-47203j61-9d88-461j-770982                  0                0   \n",
      "28  5902-kddk-47205902-kddk-4kj7-662995                  1                0   \n",
      "29  b109-2477-4720b109-2477-473j-251250                  0                0   \n",
      "30  380b-1478-4721380b-1478-414b-735512                  1                0   \n",
      "31  6537-671d-47216537-671d-44j3-122468                  0                0   \n",
      "32   j264-j1b7-4721j264-j1b7-4d30-23589                  0                0   \n",
      "33  k471-36kd-4721k471-36kd-4000-361656                  1                1   \n",
      "34  j7k3-440b-4722j7k3-440b-4j40-928836                  0                0   \n",
      "35  7782-02j8-47227782-02j8-493d-752153                  0                0   \n",
      "36  7777-44b4-47227777-44b4-4859-613976                  0                0   \n",
      "37  010k-1510-4724010k-1510-4698-309417                  0                0   \n",
      "38  0493-dd7b-47240493-dd7b-4dkk-433776                  0                1   \n",
      "39  52b3-j004-472452b3-j004-4494-896047                  0                0   \n",
      "40   9714-34jj-47249714-34jj-4kjd-28139                  0                0   \n",
      "41   0d40-153k-47250d40-153k-4177-27816                  0                0   \n",
      "42  3274-5k2d-47253274-5k2d-4263-797460                  0                0   \n",
      "43  4db8-4977-47254db8-4977-4422-356609                  0                0   \n",
      "44  jdj7-k5jk-4725jdj7-k5jk-441d-547314                  0                0   \n",
      "45  2314-k67j-47262314-k67j-4bk3-296295                  0                0   \n",
      "46  kb84-50b4-4726kb84-50b4-45k4-730025                  0                0   \n",
      "47  49k4-3764-472649k4-3764-4d19-616523                  0                0   \n",
      "48  b8d2-d5bk-4727b8d2-d5bk-4688-701535                  0                1   \n",
      "49   9022-614j-47289022-614j-4067-29989                  0                0   \n",
      "\n",
      "    basket_add_detail  sort_by  image_picker  account_page_click  \\\n",
      "0                   0        0             0                   0   \n",
      "1                   0        0             0                   0   \n",
      "2                   0        0             0                   0   \n",
      "3                   1        0             0                   0   \n",
      "4                   0        0             0                   0   \n",
      "5                   1        0             0                   0   \n",
      "6                   0        0             0                   0   \n",
      "7                   0        0             0                   0   \n",
      "8                   1        0             0                   0   \n",
      "9                   0        0             0                   0   \n",
      "10                  0        0             0                   0   \n",
      "11                  0        0             0                   0   \n",
      "12                  0        0             0                   0   \n",
      "13                  0        0             0                   0   \n",
      "14                  0        0             0                   0   \n",
      "15                  1        0             0                   0   \n",
      "16                  0        0             0                   0   \n",
      "17                  0        0             0                   0   \n",
      "18                  0        0             0                   0   \n",
      "19                  0        0             0                   0   \n",
      "20                  0        0             0                   0   \n",
      "21                  0        0             0                   0   \n",
      "22                  0        0             0                   0   \n",
      "23                  1        0             0                   0   \n",
      "24                  0        0             0                   0   \n",
      "25                  0        0             0                   0   \n",
      "26                  0        0             0                   0   \n",
      "27                  0        0             0                   0   \n",
      "28                  0        0             0                   0   \n",
      "29                  0        0             0                   0   \n",
      "30                  1        0             0                   0   \n",
      "31                  0        0             0                   0   \n",
      "32                  0        0             0                   0   \n",
      "33                  0        0             0                   0   \n",
      "34                  0        0             0                   0   \n",
      "35                  0        0             0                   0   \n",
      "36                  0        0             0                   0   \n",
      "37                  0        0             0                   0   \n",
      "38                  0        0             0                   0   \n",
      "39                  0        0             0                   0   \n",
      "40                  0        0             0                   0   \n",
      "41                  0        0             0                   0   \n",
      "42                  0        0             0                   0   \n",
      "43                  0        0             0                   0   \n",
      "44                  0        0             0                   0   \n",
      "45                  0        0             0                   0   \n",
      "46                  0        0             0                   0   \n",
      "47                  0        0             0                   0   \n",
      "48                  0        0             0                   0   \n",
      "49                  0        0             0                   0   \n",
      "\n",
      "    promo_banner_click  detail_wishlist_add  list_size_dropdown  ...  \\\n",
      "0                    0                    0                   0  ...   \n",
      "1                    0                    0                   0  ...   \n",
      "2                    0                    0                   0  ...   \n",
      "3                    0                    0                   0  ...   \n",
      "4                    0                    0                   0  ...   \n",
      "5                    0                    1                   1  ...   \n",
      "6                    0                    0                   0  ...   \n",
      "7                    0                    0                   0  ...   \n",
      "8                    0                    0                   1  ...   \n",
      "9                    0                    0                   0  ...   \n",
      "10                   0                    0                   0  ...   \n",
      "11                   0                    0                   0  ...   \n",
      "12                   0                    0                   0  ...   \n",
      "13                   0                    0                   0  ...   \n",
      "14                   0                    0                   0  ...   \n",
      "15                   0                    0                   0  ...   \n",
      "16                   0                    0                   0  ...   \n",
      "17                   0                    0                   0  ...   \n",
      "18                   0                    0                   0  ...   \n",
      "19                   0                    0                   0  ...   \n",
      "20                   0                    0                   0  ...   \n",
      "21                   0                    0                   0  ...   \n",
      "22                   0                    0                   0  ...   \n",
      "23                   0                    0                   1  ...   \n",
      "24                   0                    0                   0  ...   \n",
      "25                   0                    0                   1  ...   \n",
      "26                   1                    0                   0  ...   \n",
      "27                   0                    0                   0  ...   \n",
      "28                   0                    0                   0  ...   \n",
      "29                   0                    0                   0  ...   \n",
      "30                   0                    0                   0  ...   \n",
      "31                   0                    0                   0  ...   \n",
      "32                   0                    0                   0  ...   \n",
      "33                   0                    0                   1  ...   \n",
      "34                   0                    0                   0  ...   \n",
      "35                   0                    0                   0  ...   \n",
      "36                   0                    0                   0  ...   \n",
      "37                   0                    0                   0  ...   \n",
      "38                   0                    0                   1  ...   \n",
      "39                   0                    0                   0  ...   \n",
      "40                   0                    0                   0  ...   \n",
      "41                   0                    0                   0  ...   \n",
      "42                   0                    0                   0  ...   \n",
      "43                   0                    0                   0  ...   \n",
      "44                   0                    0                   1  ...   \n",
      "45                   0                    0                   0  ...   \n",
      "46                   0                    0                   0  ...   \n",
      "47                   0                    0                   0  ...   \n",
      "48                   0                    0                   1  ...   \n",
      "49                   0                    0                   0  ...   \n",
      "\n",
      "    saw_sizecharts  saw_delivery  saw_account_upgrade  saw_homepage  \\\n",
      "0                0             0                    0             0   \n",
      "1                0             0                    0             0   \n",
      "2                0             0                    0             0   \n",
      "3                0             0                    0             0   \n",
      "4                0             0                    0             0   \n",
      "5                0             0                    0             0   \n",
      "6                0             0                    0             0   \n",
      "7                0             0                    0             0   \n",
      "8                0             0                    0             1   \n",
      "9                0             0                    0             0   \n",
      "10               0             0                    0             0   \n",
      "11               0             0                    0             0   \n",
      "12               0             0                    0             0   \n",
      "13               0             0                    0             0   \n",
      "14               0             0                    0             0   \n",
      "15               0             0                    0             0   \n",
      "16               0             0                    0             0   \n",
      "17               0             0                    0             0   \n",
      "18               0             0                    0             0   \n",
      "19               0             0                    0             1   \n",
      "20               0             0                    0             0   \n",
      "21               0             0                    0             0   \n",
      "22               0             0                    0             0   \n",
      "23               0             0                    0             1   \n",
      "24               0             0                    0             0   \n",
      "25               0             0                    0             1   \n",
      "26               0             0                    0             0   \n",
      "27               0             0                    0             1   \n",
      "28               0             0                    0             0   \n",
      "29               0             0                    0             0   \n",
      "30               0             0                    0             1   \n",
      "31               0             0                    0             0   \n",
      "32               0             0                    0             0   \n",
      "33               0             0                    0             0   \n",
      "34               0             0                    0             0   \n",
      "35               0             0                    0             0   \n",
      "36               0             0                    0             0   \n",
      "37               0             0                    0             0   \n",
      "38               0             0                    0             0   \n",
      "39               0             0                    0             1   \n",
      "40               0             0                    0             0   \n",
      "41               0             0                    0             0   \n",
      "42               0             0                    0             1   \n",
      "43               0             0                    0             0   \n",
      "44               0             0                    0             0   \n",
      "45               0             0                    0             0   \n",
      "46               0             0                    0             0   \n",
      "47               0             0                    0             0   \n",
      "48               0             0                    0             0   \n",
      "49               0             0                    0             0   \n",
      "\n",
      "    device_mobile  device_computer  device_tablet  returning_user  loc_uk  \\\n",
      "0               1                0              0               0       1   \n",
      "1               1                0              0               0       1   \n",
      "2               1                0              0               0       1   \n",
      "3               1                0              0               0       1   \n",
      "4               1                0              0               0       1   \n",
      "5               0                0              1               1       0   \n",
      "6               0                0              1               1       1   \n",
      "7               1                0              0               1       1   \n",
      "8               1                0              0               1       1   \n",
      "9               1                0              0               0       0   \n",
      "10              1                0              0               0       1   \n",
      "11              1                0              0               1       1   \n",
      "12              1                0              0               1       1   \n",
      "13              0                1              0               1       1   \n",
      "14              1                0              0               1       1   \n",
      "15              1                0              0               0       1   \n",
      "16              0                1              0               1       1   \n",
      "17              0                1              0               1       1   \n",
      "18              1                0              0               1       1   \n",
      "19              1                0              0               0       1   \n",
      "20              1                0              0               1       1   \n",
      "21              1                0              0               1       1   \n",
      "22              0                1              0               0       1   \n",
      "23              1                0              0               0       0   \n",
      "24              1                0              0               0       1   \n",
      "25              1                0              0               0       1   \n",
      "26              0                1              0               0       1   \n",
      "27              1                0              0               0       1   \n",
      "28              1                0              0               1       1   \n",
      "29              1                0              0               1       1   \n",
      "30              1                0              0               1       1   \n",
      "31              1                0              0               1       1   \n",
      "32              1                0              0               0       1   \n",
      "33              1                0              0               1       1   \n",
      "34              1                0              0               0       1   \n",
      "35              1                0              0               0       1   \n",
      "36              1                0              0               1       1   \n",
      "37              1                0              0               1       1   \n",
      "38              1                0              0               1       1   \n",
      "39              1                0              0               1       1   \n",
      "40              1                0              0               0       1   \n",
      "41              1                0              0               1       1   \n",
      "42              1                0              0               1       1   \n",
      "43              1                0              0               1       1   \n",
      "44              1                0              0               1       1   \n",
      "45              0                1              0               0       1   \n",
      "46              1                0              0               1       1   \n",
      "47              0                1              0               0       1   \n",
      "48              1                0              0               0       1   \n",
      "49              1                0              0               1       1   \n",
      "\n",
      "    ordered  \n",
      "0         0  \n",
      "1         0  \n",
      "2         0  \n",
      "3         0  \n",
      "4         0  \n",
      "5         0  \n",
      "6         0  \n",
      "7         0  \n",
      "8         0  \n",
      "9         0  \n",
      "10        0  \n",
      "11        0  \n",
      "12        0  \n",
      "13        0  \n",
      "14        0  \n",
      "15        0  \n",
      "16        0  \n",
      "17        0  \n",
      "18        0  \n",
      "19        0  \n",
      "20        0  \n",
      "21        0  \n",
      "22        0  \n",
      "23        0  \n",
      "24        0  \n",
      "25        0  \n",
      "26        0  \n",
      "27        0  \n",
      "28        0  \n",
      "29        0  \n",
      "30        0  \n",
      "31        0  \n",
      "32        0  \n",
      "33        0  \n",
      "34        0  \n",
      "35        0  \n",
      "36        0  \n",
      "37        0  \n",
      "38        0  \n",
      "39        0  \n",
      "40        0  \n",
      "41        0  \n",
      "42        0  \n",
      "43        0  \n",
      "44        0  \n",
      "45        0  \n",
      "46        0  \n",
      "47        0  \n",
      "48        0  \n",
      "49        0  \n",
      "\n",
      "[50 rows x 25 columns]\n"
     ]
    }
   ],
   "source": [
    "print(yesterdays_prospect.head(50))"
   ]
  },
  {
   "cell_type": "code",
   "execution_count": 28,
   "id": "3f863f6c-1ecc-4fad-9bae-cb4403b33c84",
   "metadata": {
    "scrolled": true,
    "tags": [],
    "pycharm": {
     "name": "#%%\n"
    }
   },
   "outputs": [
    {
     "name": "stdout",
     "output_type": "stream",
     "text": [
      "   basket_icon_click  basket_add_list  basket_add_detail  sort_by  \\\n",
      "0                  0                0                  0        0   \n",
      "1                  0                0                  0        0   \n",
      "2                  0                0                  0        0   \n",
      "3                  0                0                  1        0   \n",
      "4                  0                0                  0        0   \n",
      "5                  1                0                  1        0   \n",
      "6                  0                0                  0        0   \n",
      "7                  0                0                  0        0   \n",
      "8                  1                1                  1        0   \n",
      "9                  0                0                  0        0   \n",
      "\n",
      "   image_picker  account_page_click  promo_banner_click  detail_wishlist_add  \\\n",
      "0             0                   0                   0                    0   \n",
      "1             0                   0                   0                    0   \n",
      "2             0                   0                   0                    0   \n",
      "3             0                   0                   0                    0   \n",
      "4             0                   0                   0                    0   \n",
      "5             0                   0                   0                    1   \n",
      "6             0                   0                   0                    0   \n",
      "7             0                   0                   0                    0   \n",
      "8             0                   0                   0                    0   \n",
      "9             0                   0                   0                    0   \n",
      "\n",
      "   list_size_dropdown  closed_minibasket_click  ...  sign_in  saw_checkout  \\\n",
      "0                   0                        0  ...        0             0   \n",
      "1                   0                        0  ...        0             0   \n",
      "2                   0                        0  ...        0             0   \n",
      "3                   0                        0  ...        0             0   \n",
      "4                   0                        0  ...        0             0   \n",
      "5                   1                        0  ...        1             1   \n",
      "6                   0                        0  ...        0             0   \n",
      "7                   0                        0  ...        0             0   \n",
      "8                   1                        1  ...        0             0   \n",
      "9                   0                        0  ...        0             0   \n",
      "\n",
      "   saw_sizecharts  saw_delivery  saw_account_upgrade  saw_homepage  \\\n",
      "0               0             0                    0             0   \n",
      "1               0             0                    0             0   \n",
      "2               0             0                    0             0   \n",
      "3               0             0                    0             0   \n",
      "4               0             0                    0             0   \n",
      "5               0             0                    0             0   \n",
      "6               0             0                    0             0   \n",
      "7               0             0                    0             0   \n",
      "8               0             0                    0             1   \n",
      "9               0             0                    0             0   \n",
      "\n",
      "   device_computer  device_tablet  returning_user  loc_uk  \n",
      "0                0              0               0       1  \n",
      "1                0              0               0       1  \n",
      "2                0              0               0       1  \n",
      "3                0              0               0       1  \n",
      "4                0              0               0       1  \n",
      "5                0              1               1       0  \n",
      "6                0              1               1       1  \n",
      "7                0              0               1       1  \n",
      "8                0              0               1       1  \n",
      "9                0              0               0       0  \n",
      "\n",
      "[10 rows x 22 columns]\n"
     ]
    }
   ],
   "source": [
    "\n",
    "userids = yesterdays_prospect['UserID']\n",
    "yesterdays_prospect = yesterdays_prospect.drop(['ordered','UserID','device_mobile'], axis=1)\n",
    "\n",
    "print(yesterdays_prospect.head(10))"
   ]
  },
  {
   "cell_type": "code",
   "execution_count": 29,
   "id": "0d8aa876-dd04-48dd-bdb0-98b20424aaa2",
   "metadata": {
    "pycharm": {
     "name": "#%%\n"
    }
   },
   "outputs": [
    {
     "data": {
      "text/plain": "(151655, 22)"
     },
     "execution_count": 29,
     "metadata": {},
     "output_type": "execute_result"
    }
   ],
   "source": [
    "yesterdays_prospect.shape"
   ]
  },
  {
   "cell_type": "code",
   "execution_count": 30,
   "id": "bf5c0518-417a-4e5a-9b8d-024c35128256",
   "metadata": {
    "pycharm": {
     "name": "#%%\n"
    }
   },
   "outputs": [],
   "source": [
    "yesterdays_prospect['propensity'] = lr.predict_proba(yesterdays_prospect)[:,1]\n"
   ]
  },
  {
   "cell_type": "code",
   "execution_count": 31,
   "id": "9e8aa812-6f36-45a3-93f9-78676ab13e7f",
   "metadata": {
    "pycharm": {
     "name": "#%%\n"
    }
   },
   "outputs": [
    {
     "data": {
      "text/plain": "        basket_icon_click  basket_add_list  basket_add_detail  sort_by  \\\n0                       0                0                  0        0   \n1                       0                0                  0        0   \n2                       0                0                  0        0   \n3                       0                0                  1        0   \n4                       0                0                  0        0   \n...                   ...              ...                ...      ...   \n151650                  0                0                  0        0   \n151651                  0                0                  0        0   \n151652                  0                0                  0        0   \n151653                  0                0                  0        0   \n151654                  0                0                  0        0   \n\n        image_picker  account_page_click  promo_banner_click  \\\n0                  0                   0                   0   \n1                  0                   0                   0   \n2                  0                   0                   0   \n3                  0                   0                   0   \n4                  0                   0                   0   \n...              ...                 ...                 ...   \n151650             0                   0                   0   \n151651             0                   0                   0   \n151652             0                   0                   0   \n151653             0                   0                   0   \n151654             0                   0                   0   \n\n        detail_wishlist_add  list_size_dropdown  closed_minibasket_click  ...  \\\n0                         0                   0                        0  ...   \n1                         0                   0                        0  ...   \n2                         0                   0                        0  ...   \n3                         0                   0                        0  ...   \n4                         0                   0                        0  ...   \n...                     ...                 ...                      ...  ...   \n151650                    0                   0                        0  ...   \n151651                    0                   0                        0  ...   \n151652                    0                   0                        0  ...   \n151653                    0                   0                        0  ...   \n151654                    0                   1                        0  ...   \n\n        saw_checkout  saw_sizecharts  saw_delivery  saw_account_upgrade  \\\n0                  0               0             0                    0   \n1                  0               0             0                    0   \n2                  0               0             0                    0   \n3                  0               0             0                    0   \n4                  0               0             0                    0   \n...              ...             ...           ...                  ...   \n151650             0               0             0                    0   \n151651             0               0             0                    0   \n151652             0               0             0                    0   \n151653             0               0             0                    0   \n151654             0               0             0                    0   \n\n        saw_homepage  device_computer  device_tablet  returning_user  loc_uk  \\\n0                  0                0              0               0       1   \n1                  0                0              0               0       1   \n2                  0                0              0               0       1   \n3                  0                0              0               0       1   \n4                  0                0              0               0       1   \n...              ...              ...            ...             ...     ...   \n151650             1                0              0               1       1   \n151651             0                0              0               1       0   \n151652             0                0              0               1       1   \n151653             0                0              0               1       1   \n151654             1                0              1               0       1   \n\n        propensity  \n0         0.000004  \n1         0.000004  \n2         0.000004  \n3         0.000008  \n4         0.000004  \n...            ...  \n151650    0.000010  \n151651    0.000003  \n151652    0.000007  \n151653    0.000007  \n151654    0.000006  \n\n[151655 rows x 23 columns]",
      "text/html": "<div>\n<style scoped>\n    .dataframe tbody tr th:only-of-type {\n        vertical-align: middle;\n    }\n\n    .dataframe tbody tr th {\n        vertical-align: top;\n    }\n\n    .dataframe thead th {\n        text-align: right;\n    }\n</style>\n<table border=\"1\" class=\"dataframe\">\n  <thead>\n    <tr style=\"text-align: right;\">\n      <th></th>\n      <th>basket_icon_click</th>\n      <th>basket_add_list</th>\n      <th>basket_add_detail</th>\n      <th>sort_by</th>\n      <th>image_picker</th>\n      <th>account_page_click</th>\n      <th>promo_banner_click</th>\n      <th>detail_wishlist_add</th>\n      <th>list_size_dropdown</th>\n      <th>closed_minibasket_click</th>\n      <th>...</th>\n      <th>saw_checkout</th>\n      <th>saw_sizecharts</th>\n      <th>saw_delivery</th>\n      <th>saw_account_upgrade</th>\n      <th>saw_homepage</th>\n      <th>device_computer</th>\n      <th>device_tablet</th>\n      <th>returning_user</th>\n      <th>loc_uk</th>\n      <th>propensity</th>\n    </tr>\n  </thead>\n  <tbody>\n    <tr>\n      <th>0</th>\n      <td>0</td>\n      <td>0</td>\n      <td>0</td>\n      <td>0</td>\n      <td>0</td>\n      <td>0</td>\n      <td>0</td>\n      <td>0</td>\n      <td>0</td>\n      <td>0</td>\n      <td>...</td>\n      <td>0</td>\n      <td>0</td>\n      <td>0</td>\n      <td>0</td>\n      <td>0</td>\n      <td>0</td>\n      <td>0</td>\n      <td>0</td>\n      <td>1</td>\n      <td>0.000004</td>\n    </tr>\n    <tr>\n      <th>1</th>\n      <td>0</td>\n      <td>0</td>\n      <td>0</td>\n      <td>0</td>\n      <td>0</td>\n      <td>0</td>\n      <td>0</td>\n      <td>0</td>\n      <td>0</td>\n      <td>0</td>\n      <td>...</td>\n      <td>0</td>\n      <td>0</td>\n      <td>0</td>\n      <td>0</td>\n      <td>0</td>\n      <td>0</td>\n      <td>0</td>\n      <td>0</td>\n      <td>1</td>\n      <td>0.000004</td>\n    </tr>\n    <tr>\n      <th>2</th>\n      <td>0</td>\n      <td>0</td>\n      <td>0</td>\n      <td>0</td>\n      <td>0</td>\n      <td>0</td>\n      <td>0</td>\n      <td>0</td>\n      <td>0</td>\n      <td>0</td>\n      <td>...</td>\n      <td>0</td>\n      <td>0</td>\n      <td>0</td>\n      <td>0</td>\n      <td>0</td>\n      <td>0</td>\n      <td>0</td>\n      <td>0</td>\n      <td>1</td>\n      <td>0.000004</td>\n    </tr>\n    <tr>\n      <th>3</th>\n      <td>0</td>\n      <td>0</td>\n      <td>1</td>\n      <td>0</td>\n      <td>0</td>\n      <td>0</td>\n      <td>0</td>\n      <td>0</td>\n      <td>0</td>\n      <td>0</td>\n      <td>...</td>\n      <td>0</td>\n      <td>0</td>\n      <td>0</td>\n      <td>0</td>\n      <td>0</td>\n      <td>0</td>\n      <td>0</td>\n      <td>0</td>\n      <td>1</td>\n      <td>0.000008</td>\n    </tr>\n    <tr>\n      <th>4</th>\n      <td>0</td>\n      <td>0</td>\n      <td>0</td>\n      <td>0</td>\n      <td>0</td>\n      <td>0</td>\n      <td>0</td>\n      <td>0</td>\n      <td>0</td>\n      <td>0</td>\n      <td>...</td>\n      <td>0</td>\n      <td>0</td>\n      <td>0</td>\n      <td>0</td>\n      <td>0</td>\n      <td>0</td>\n      <td>0</td>\n      <td>0</td>\n      <td>1</td>\n      <td>0.000004</td>\n    </tr>\n    <tr>\n      <th>...</th>\n      <td>...</td>\n      <td>...</td>\n      <td>...</td>\n      <td>...</td>\n      <td>...</td>\n      <td>...</td>\n      <td>...</td>\n      <td>...</td>\n      <td>...</td>\n      <td>...</td>\n      <td>...</td>\n      <td>...</td>\n      <td>...</td>\n      <td>...</td>\n      <td>...</td>\n      <td>...</td>\n      <td>...</td>\n      <td>...</td>\n      <td>...</td>\n      <td>...</td>\n      <td>...</td>\n    </tr>\n    <tr>\n      <th>151650</th>\n      <td>0</td>\n      <td>0</td>\n      <td>0</td>\n      <td>0</td>\n      <td>0</td>\n      <td>0</td>\n      <td>0</td>\n      <td>0</td>\n      <td>0</td>\n      <td>0</td>\n      <td>...</td>\n      <td>0</td>\n      <td>0</td>\n      <td>0</td>\n      <td>0</td>\n      <td>1</td>\n      <td>0</td>\n      <td>0</td>\n      <td>1</td>\n      <td>1</td>\n      <td>0.000010</td>\n    </tr>\n    <tr>\n      <th>151651</th>\n      <td>0</td>\n      <td>0</td>\n      <td>0</td>\n      <td>0</td>\n      <td>0</td>\n      <td>0</td>\n      <td>0</td>\n      <td>0</td>\n      <td>0</td>\n      <td>0</td>\n      <td>...</td>\n      <td>0</td>\n      <td>0</td>\n      <td>0</td>\n      <td>0</td>\n      <td>0</td>\n      <td>0</td>\n      <td>0</td>\n      <td>1</td>\n      <td>0</td>\n      <td>0.000003</td>\n    </tr>\n    <tr>\n      <th>151652</th>\n      <td>0</td>\n      <td>0</td>\n      <td>0</td>\n      <td>0</td>\n      <td>0</td>\n      <td>0</td>\n      <td>0</td>\n      <td>0</td>\n      <td>0</td>\n      <td>0</td>\n      <td>...</td>\n      <td>0</td>\n      <td>0</td>\n      <td>0</td>\n      <td>0</td>\n      <td>0</td>\n      <td>0</td>\n      <td>0</td>\n      <td>1</td>\n      <td>1</td>\n      <td>0.000007</td>\n    </tr>\n    <tr>\n      <th>151653</th>\n      <td>0</td>\n      <td>0</td>\n      <td>0</td>\n      <td>0</td>\n      <td>0</td>\n      <td>0</td>\n      <td>0</td>\n      <td>0</td>\n      <td>0</td>\n      <td>0</td>\n      <td>...</td>\n      <td>0</td>\n      <td>0</td>\n      <td>0</td>\n      <td>0</td>\n      <td>0</td>\n      <td>0</td>\n      <td>0</td>\n      <td>1</td>\n      <td>1</td>\n      <td>0.000007</td>\n    </tr>\n    <tr>\n      <th>151654</th>\n      <td>0</td>\n      <td>0</td>\n      <td>0</td>\n      <td>0</td>\n      <td>0</td>\n      <td>0</td>\n      <td>0</td>\n      <td>0</td>\n      <td>1</td>\n      <td>0</td>\n      <td>...</td>\n      <td>0</td>\n      <td>0</td>\n      <td>0</td>\n      <td>0</td>\n      <td>1</td>\n      <td>0</td>\n      <td>1</td>\n      <td>0</td>\n      <td>1</td>\n      <td>0.000006</td>\n    </tr>\n  </tbody>\n</table>\n<p>151655 rows × 23 columns</p>\n</div>"
     },
     "execution_count": 31,
     "metadata": {},
     "output_type": "execute_result"
    }
   ],
   "source": [
    "yesterdays_prospect"
   ]
  },
  {
   "cell_type": "code",
   "execution_count": 32,
   "id": "c7b2d574-f78b-4d21-be23-f75f618c178b",
   "metadata": {
    "pycharm": {
     "name": "#%%\n"
    }
   },
   "outputs": [],
   "source": [
    "pd.DataFrame(userids)\n",
    "results = pd.concat([userids, yesterdays_prospect], axis=1)"
   ]
  },
  {
   "cell_type": "code",
   "execution_count": 33,
   "id": "7b9dfa5a-f1c1-4f64-92af-d2e5ce153935",
   "metadata": {
    "tags": [],
    "pycharm": {
     "name": "#%%\n"
    }
   },
   "outputs": [
    {
     "name": "stdout",
     "output_type": "stream",
     "text": [
      "                                 UserID  basket_icon_click  basket_add_list  \\\n",
      "0   9d24-25k4-47889d24-25k4-494b-398124                  0                0   \n",
      "1   7732-1k58-47887732-1k58-4475-679678                  0                0   \n",
      "2   94k2-632j-471394k2-632j-4b4j-228160                  0                0   \n",
      "3   jdd8-419d-4714jdd8-419d-4198-674376                  0                0   \n",
      "4   7473-7595-47147473-7595-4757-227547                  0                0   \n",
      "5   7j3d-j382-47157j3d-j382-4d3b-955343                  1                0   \n",
      "6   bb4d-8019-4715bb4d-8019-4d42-763898                  0                0   \n",
      "7   d09k-j446-4716d09k-j446-4469-572703                  0                0   \n",
      "8    1397-7143-47171397-7143-4969-95351                  1                1   \n",
      "9   3j36-dj4d-47183j36-dj4d-4478-404497                  0                0   \n",
      "10   82b1-659j-471882b1-659j-45j1-32901                  0                0   \n",
      "11  dj8d-141k-4718dj8d-141k-42db-743965                  0                0   \n",
      "12  dk79-707j-4718dk79-707j-4d6k-487319                  0                0   \n",
      "13  42d6-051d-471j42d6-051d-4634-595933                  0                0   \n",
      "14  dk73-4794-471jdk73-4794-4450-695194                  0                0   \n",
      "15  0457-970d-471b0457-970d-42jb-259828                  0                0   \n",
      "16  d942-7bb0-471bd942-7bb0-48b7-176992                  0                0   \n",
      "17  1864-k405-471k1864-k405-4186-172547                  0                0   \n",
      "18  3j6b-4j14-471k3j6b-4j14-4k44-208836                  0                0   \n",
      "19  5470-1b83-471k5470-1b83-4476-737173                  0                0   \n",
      "20  7548-k5db-471k7548-k5db-445j-856744                  0                0   \n",
      "21    74j8-k175-471d74j8-k175-4410-6346                  0                0   \n",
      "22  457j-28b0-471d457j-28b0-47dk-811618                  0                0   \n",
      "23  743b-08d2-4717743b-08d2-4634-230774                  1                1   \n",
      "24  2k14-4j8k-47142k14-4j8k-4540-748537                  0                0   \n",
      "25  388k-6047-4714388k-6047-446b-345915                  0                0   \n",
      "26  3496-7b76-47203496-7b76-4821-657220                  0                0   \n",
      "27  3j61-9d88-47203j61-9d88-461j-770982                  0                0   \n",
      "28  5902-kddk-47205902-kddk-4kj7-662995                  1                0   \n",
      "29  b109-2477-4720b109-2477-473j-251250                  0                0   \n",
      "\n",
      "    basket_add_detail  sort_by  image_picker  account_page_click  \\\n",
      "0                   0        0             0                   0   \n",
      "1                   0        0             0                   0   \n",
      "2                   0        0             0                   0   \n",
      "3                   1        0             0                   0   \n",
      "4                   0        0             0                   0   \n",
      "5                   1        0             0                   0   \n",
      "6                   0        0             0                   0   \n",
      "7                   0        0             0                   0   \n",
      "8                   1        0             0                   0   \n",
      "9                   0        0             0                   0   \n",
      "10                  0        0             0                   0   \n",
      "11                  0        0             0                   0   \n",
      "12                  0        0             0                   0   \n",
      "13                  0        0             0                   0   \n",
      "14                  0        0             0                   0   \n",
      "15                  1        0             0                   0   \n",
      "16                  0        0             0                   0   \n",
      "17                  0        0             0                   0   \n",
      "18                  0        0             0                   0   \n",
      "19                  0        0             0                   0   \n",
      "20                  0        0             0                   0   \n",
      "21                  0        0             0                   0   \n",
      "22                  0        0             0                   0   \n",
      "23                  1        0             0                   0   \n",
      "24                  0        0             0                   0   \n",
      "25                  0        0             0                   0   \n",
      "26                  0        0             0                   0   \n",
      "27                  0        0             0                   0   \n",
      "28                  0        0             0                   0   \n",
      "29                  0        0             0                   0   \n",
      "\n",
      "    promo_banner_click  detail_wishlist_add  list_size_dropdown  ...  \\\n",
      "0                    0                    0                   0  ...   \n",
      "1                    0                    0                   0  ...   \n",
      "2                    0                    0                   0  ...   \n",
      "3                    0                    0                   0  ...   \n",
      "4                    0                    0                   0  ...   \n",
      "5                    0                    1                   1  ...   \n",
      "6                    0                    0                   0  ...   \n",
      "7                    0                    0                   0  ...   \n",
      "8                    0                    0                   1  ...   \n",
      "9                    0                    0                   0  ...   \n",
      "10                   0                    0                   0  ...   \n",
      "11                   0                    0                   0  ...   \n",
      "12                   0                    0                   0  ...   \n",
      "13                   0                    0                   0  ...   \n",
      "14                   0                    0                   0  ...   \n",
      "15                   0                    0                   0  ...   \n",
      "16                   0                    0                   0  ...   \n",
      "17                   0                    0                   0  ...   \n",
      "18                   0                    0                   0  ...   \n",
      "19                   0                    0                   0  ...   \n",
      "20                   0                    0                   0  ...   \n",
      "21                   0                    0                   0  ...   \n",
      "22                   0                    0                   0  ...   \n",
      "23                   0                    0                   1  ...   \n",
      "24                   0                    0                   0  ...   \n",
      "25                   0                    0                   1  ...   \n",
      "26                   1                    0                   0  ...   \n",
      "27                   0                    0                   0  ...   \n",
      "28                   0                    0                   0  ...   \n",
      "29                   0                    0                   0  ...   \n",
      "\n",
      "    saw_checkout  saw_sizecharts  saw_delivery  saw_account_upgrade  \\\n",
      "0              0               0             0                    0   \n",
      "1              0               0             0                    0   \n",
      "2              0               0             0                    0   \n",
      "3              0               0             0                    0   \n",
      "4              0               0             0                    0   \n",
      "5              1               0             0                    0   \n",
      "6              0               0             0                    0   \n",
      "7              0               0             0                    0   \n",
      "8              0               0             0                    0   \n",
      "9              0               0             0                    0   \n",
      "10             0               0             0                    0   \n",
      "11             0               0             0                    0   \n",
      "12             0               0             0                    0   \n",
      "13             0               0             0                    0   \n",
      "14             0               0             0                    0   \n",
      "15             1               0             0                    0   \n",
      "16             0               0             0                    0   \n",
      "17             0               0             0                    0   \n",
      "18             0               0             0                    0   \n",
      "19             0               0             0                    0   \n",
      "20             0               0             0                    0   \n",
      "21             0               0             0                    0   \n",
      "22             0               0             0                    0   \n",
      "23             1               0             0                    0   \n",
      "24             0               0             0                    0   \n",
      "25             0               0             0                    0   \n",
      "26             0               0             0                    0   \n",
      "27             0               0             0                    0   \n",
      "28             1               0             0                    0   \n",
      "29             0               0             0                    0   \n",
      "\n",
      "    saw_homepage  device_computer  device_tablet  returning_user  loc_uk  \\\n",
      "0              0                0              0               0       1   \n",
      "1              0                0              0               0       1   \n",
      "2              0                0              0               0       1   \n",
      "3              0                0              0               0       1   \n",
      "4              0                0              0               0       1   \n",
      "5              0                0              1               1       0   \n",
      "6              0                0              1               1       1   \n",
      "7              0                0              0               1       1   \n",
      "8              1                0              0               1       1   \n",
      "9              0                0              0               0       0   \n",
      "10             0                0              0               0       1   \n",
      "11             0                0              0               1       1   \n",
      "12             0                0              0               1       1   \n",
      "13             0                1              0               1       1   \n",
      "14             0                0              0               1       1   \n",
      "15             0                0              0               0       1   \n",
      "16             0                1              0               1       1   \n",
      "17             0                1              0               1       1   \n",
      "18             0                0              0               1       1   \n",
      "19             1                0              0               0       1   \n",
      "20             0                0              0               1       1   \n",
      "21             0                0              0               1       1   \n",
      "22             0                1              0               0       1   \n",
      "23             1                0              0               0       0   \n",
      "24             0                0              0               0       1   \n",
      "25             1                0              0               0       1   \n",
      "26             0                1              0               0       1   \n",
      "27             1                0              0               0       1   \n",
      "28             0                0              0               1       1   \n",
      "29             0                0              0               1       1   \n",
      "\n",
      "    propensity  \n",
      "0     0.000004  \n",
      "1     0.000004  \n",
      "2     0.000004  \n",
      "3     0.000008  \n",
      "4     0.000004  \n",
      "5     0.979091  \n",
      "6     0.000011  \n",
      "7     0.000007  \n",
      "8     0.000076  \n",
      "9     0.000002  \n",
      "10    0.000004  \n",
      "11    0.000007  \n",
      "12    0.000007  \n",
      "13    0.000014  \n",
      "14    0.000007  \n",
      "15    0.106179  \n",
      "16    0.000014  \n",
      "17    0.000014  \n",
      "18    0.000007  \n",
      "19    0.000006  \n",
      "20    0.000007  \n",
      "21    0.000007  \n",
      "22    0.000009  \n",
      "23    0.990389  \n",
      "24    0.000004  \n",
      "25    0.000004  \n",
      "26    0.000009  \n",
      "27    0.000006  \n",
      "28    0.196018  \n",
      "29    0.000007  \n",
      "\n",
      "[30 rows x 24 columns]\n"
     ]
    }
   ],
   "source": [
    "print(results.head(30))"
   ]
  },
  {
   "cell_type": "code",
   "execution_count": 34,
   "id": "e3d2ee72-2359-433b-97b4-865120a4c5ee",
   "metadata": {
    "pycharm": {
     "name": "#%%\n"
    }
   },
   "outputs": [],
   "source": [
    "# This will help the business know who to target in the future"
   ]
  },
  {
   "cell_type": "code",
   "execution_count": 34,
   "id": "fcdfafc0-456b-4307-ab7f-d66d921f4606",
   "metadata": {
    "pycharm": {
     "name": "#%%\n"
    }
   },
   "outputs": [],
   "source": []
  }
 ],
 "metadata": {
  "kernelspec": {
   "display_name": "Python 3",
   "language": "python",
   "name": "python3"
  },
  "language_info": {
   "codemirror_mode": {
    "name": "ipython",
    "version": 3
   },
   "file_extension": ".py",
   "mimetype": "text/x-python",
   "name": "python",
   "nbconvert_exporter": "python",
   "pygments_lexer": "ipython3",
   "version": "3.8.8"
  }
 },
 "nbformat": 4,
 "nbformat_minor": 5
}